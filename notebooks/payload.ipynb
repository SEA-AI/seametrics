{
 "cells": [
  {
   "cell_type": "code",
   "execution_count": 1,
   "metadata": {},
   "outputs": [],
   "source": [
    "import os\n",
    "from pathlib import Path\n",
    "\n",
    "config_path = Path.home() / \".fiftyone\" / \"config.global_mongodb.json\"\n",
    "os.environ[\"FIFTYONE_CONFIG_PATH\"] = str(config_path)"
   ]
  },
  {
   "cell_type": "code",
   "execution_count": 2,
   "metadata": {},
   "outputs": [
    {
     "name": "stderr",
     "output_type": "stream",
     "text": [
      "INFO:seametrics.payload:Processing dataset: SAILING_DATASET_QA\n",
      "INFO:seametrics.payload:GT field: ground_truth_det\n",
      "INFO:seametrics.payload:Models: ['yolov5n6_RGB_D2304-v1_9C']\n",
      "INFO:seametrics.payload:Tracking mode: False\n",
      "INFO:seametrics.payload:Sequence list: ['Trip_14_Seq_1', 'Trip_14_Seq_2']\n",
      "INFO:seametrics.payload:Data type: rgb\n",
      "INFO:seametrics.payload:Excluded classes: ['ALGAE', 'BRIDGE', 'HARBOUR', 'WATERTRACK', 'SHORELINE', 'SUN_REFLECTION', 'UNSUPERVISED', 'WATER', 'TRASH', 'OBJECT_REFLECTION', 'HORIZON']\n",
      "INFO:seametrics.payload:Using slice: ['rgb']\n",
      "Processing sequences: 100%|██████████| 2/2 [00:01<00:00,  1.83it/s]\n",
      "INFO:seametrics.payload:Initialized PayloadProcessor for dataset: SAILING_DATASET_QA\n"
     ]
    }
   ],
   "source": [
    "import evaluate\n",
    "import logging\n",
    "from seametrics.payload import PayloadProcessor\n",
    "\n",
    "logging.basicConfig(level=logging.INFO)\n",
    "\n",
    "processor = PayloadProcessor(\n",
    "     dataset_name=\"SAILING_DATASET_QA\",\n",
    "     gt_field=\"ground_truth_det\",\n",
    "     models=[\"yolov5n6_RGB_D2304-v1_9C\"],\n",
    "     tracking_mode=False,\n",
    "     sequence_list=[\"Trip_14_Seq_1\", \"Trip_14_Seq_2\"],\n",
    "     data_type=\"rgb\",\n",
    ")"
   ]
  },
  {
   "cell_type": "code",
   "execution_count": 3,
   "metadata": {},
   "outputs": [
    {
     "name": "stdout",
     "output_type": "stream",
     "text": [
      "Sequence: Trip_14_Seq_1 stats\n",
      "Resolution: Resolution(height=720, width=1280)\n",
      "ground_truth_det has 22 elements\n",
      "yolov5n6_RGB_D2304-v1_9C has 22 elements\n",
      "\n",
      "Sequence: Trip_14_Seq_2 stats\n",
      "Resolution: Resolution(height=720, width=1280)\n",
      "ground_truth_det has 51 elements\n",
      "yolov5n6_RGB_D2304-v1_9C has 51 elements\n",
      "\n"
     ]
    }
   ],
   "source": [
    "for name, sequence in processor.payload.sequences.items():\n",
    "    print(f\"Sequence: {name} stats\")\n",
    "    print(f\"Resolution: {sequence.resolution}\")\n",
    "    for field_name in sequence.field_names:\n",
    "        print(f\"{field_name} has {len(sequence[field_name])} elements\")\n",
    "    print()"
   ]
  },
  {
   "cell_type": "code",
   "execution_count": 14,
   "metadata": {},
   "outputs": [],
   "source": [
    "from seametrics.detection.utils import payload_to_det_metric\n",
    "\n",
    "module = evaluate.load(\"/Users/kevinserrano/HF/det-metrics/det-metrics.py\",\n",
    "                       iou_threshold=[0.5])\n",
    "predictions, ground_truth = payload_to_det_metric(processor.payload)\n",
    "# convert all numpy arrays to lists\n",
    "module.add(prediction=predictions, reference=ground_truth)"
   ]
  },
  {
   "cell_type": "code",
   "execution_count": 17,
   "metadata": {},
   "outputs": [
    {
     "name": "stdout",
     "output_type": "stream",
     "text": [
      "                                             METRIC     tp,     fp,     fn,    dup,    pr,    re,    f1,   supp,    fpi,  nImgs\n",
      "@[ IoU=0.50      | area=      all | maxDets=100 ] =    122,    220,     86,      0,  0.36,  0.59,  0.44,    208,     64,    146\n"
     ]
    },
    {
     "data": {
      "text/plain": [
       "{'all': {'range': [0, 10000000000.0],\n",
       "  'iouThr': '0.50',\n",
       "  'maxDets': 100,\n",
       "  'tp': 122,\n",
       "  'fp': 220,\n",
       "  'fn': 86,\n",
       "  'duplicates': 0,\n",
       "  'precision': 0.3567251461988304,\n",
       "  'recall': 0.5865384615384616,\n",
       "  'f1': 0.4436363636363636,\n",
       "  'support': 208,\n",
       "  'fpi': 64,\n",
       "  'nImgs': 146}}"
      ]
     },
     "execution_count": 17,
     "metadata": {},
     "output_type": "execute_result"
    }
   ],
   "source": [
    "module.add_from_payload(processor.payload)\n",
    "module.compute()"
   ]
  },
  {
   "cell_type": "code",
   "execution_count": null,
   "metadata": {},
   "outputs": [],
   "source": []
  }
 ],
 "metadata": {
  "kernelspec": {
   "display_name": "AI",
   "language": "python",
   "name": "python3"
  },
  "language_info": {
   "codemirror_mode": {
    "name": "ipython",
    "version": 3
   },
   "file_extension": ".py",
   "mimetype": "text/x-python",
   "name": "python",
   "nbconvert_exporter": "python",
   "pygments_lexer": "ipython3",
   "version": "3.10.13"
  }
 },
 "nbformat": 4,
 "nbformat_minor": 2
}
