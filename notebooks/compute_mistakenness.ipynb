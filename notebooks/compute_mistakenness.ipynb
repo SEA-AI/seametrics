{
 "cells": [
  {
   "cell_type": "markdown",
   "metadata": {},
   "source": [
    "# Compute mistakenness"
   ]
  },
  {
   "cell_type": "markdown",
   "metadata": {},
   "source": [
    "### Init fiftyone"
   ]
  },
  {
   "cell_type": "code",
   "execution_count": 1,
   "metadata": {},
   "outputs": [],
   "source": [
    "import os\n",
    "from pathlib import Path\n",
    "config_path = Path.home() / \".fiftyone\" / \"config.global_mongodb.json\"\n",
    "os.environ[\"FIFTYONE_CONFIG_PATH\"] = str(config_path)"
   ]
  },
  {
   "cell_type": "code",
   "execution_count": null,
   "metadata": {},
   "outputs": [],
   "source": [
    "import fiftyone as fo\n",
    "fo.list_datasets()"
   ]
  },
  {
   "cell_type": "markdown",
   "metadata": {},
   "source": [
    "### Launch app"
   ]
  },
  {
   "cell_type": "code",
   "execution_count": null,
   "metadata": {},
   "outputs": [],
   "source": [
    "dataset_name = \"TRAIN_RL_SPLIT_THERMAL_2024_03\"\n",
    "dataset = fo.load_dataset(dataset_name)\n",
    "session = fo.launch_app(dataset=dataset, port=2203, address=\"127.0.0.1\", auto=False)\n",
    "session.show()"
   ]
  },
  {
   "cell_type": "markdown",
   "metadata": {},
   "source": [
    "### Cast labels to classes used by prediction model (yolov5)\n",
    "\n",
    "The class_map.yaml file can be found here: https://github.com/SEA-AI/yolov5/blob/sea.ai/data/class_map.yaml"
   ]
  },
  {
   "cell_type": "code",
   "execution_count": 20,
   "metadata": {},
   "outputs": [
    {
     "name": "stdout",
     "output_type": "stream",
     "text": [
      "Test: HUMAN_IN_WATER --> HUMAN\n"
     ]
    }
   ],
   "source": [
    "import yaml \n",
    "\n",
    "def load_class_map(file_path):\n",
    "    with open(file_path, 'r') as file:\n",
    "        return yaml.safe_load(file)\n",
    "    \n",
    "def cast_label(label, cast_dict):\n",
    "    if label in cast_dict:\n",
    "        return cast_dict[label]\n",
    "    return label\n",
    "    \n",
    "class_map = load_class_map(\"class_map.yaml\")\n",
    "\n",
    "print(\"Test: HUMAN_IN_WATER -->\", cast_label(\"HUMAN_IN_WATER\", class_map))\n"
   ]
  },
  {
   "cell_type": "code",
   "execution_count": 7,
   "metadata": {},
   "outputs": [
    {
     "name": "stdout",
     "output_type": "stream",
     "text": [
      "   0% ||--------------|    0/1000 [3.5ms elapsed, ? remaining, ? samples/s] "
     ]
    },
    {
     "name": "stdout",
     "output_type": "stream",
     "text": [
      " 100% |███████████████| 1000/1000 [2.5s elapsed, 0s remaining, 414.3 samples/s]      \n"
     ]
    }
   ],
   "source": [
    "dataset = fo.load_dataset(dataset_name)\n",
    "\n",
    "for sample in dataset.iter_samples(progress=True):\n",
    "    \n",
    "    detections_list = []\n",
    "\n",
    "    if sample.ground_truth_det is not None:\n",
    "\n",
    "        for det in sample.ground_truth_det.detections:\n",
    "\n",
    "            label = cast_label(det.label, class_map)\n",
    "            if label == \"None\":\n",
    "                continue\n",
    "            \n",
    "            detection = fo.Detection(label=label, bounding_box=det.bounding_box, index=det.index)\n",
    "\n",
    "            detections_list.append(detection)\n",
    "    \n",
    "    det_list = fo.core.labels.Detections(detections=detections_list)\n",
    "    sample[\"ground_truth_det_cast\"] = det_list\n",
    "    sample.save()\n",
    "dataset.save()"
   ]
  },
  {
   "cell_type": "markdown",
   "metadata": {},
   "source": [
    "### Make predictions"
   ]
  },
  {
   "cell_type": "code",
   "execution_count": 9,
   "metadata": {},
   "outputs": [
    {
     "name": "stdout",
     "output_type": "stream",
     "text": [
      " 100% |███████████████| 1000/1000 [5.0m elapsed, 0s remaining, 3.5 samples/s]      \n"
     ]
    }
   ],
   "source": [
    "import yolov5\n",
    "import cv2\n",
    "\n",
    "model = yolov5.load('SEA-AI/yolov5n-IR')\n",
    "\n",
    "model.conf = 0.1  # NMS confidence threshold\n",
    "model.iou = 0.1  # NMS IoU threshold\n",
    "model.agnostic = True  # NMS class-agnostic\n",
    "\n",
    "dataset_name = \"TRAIN_RL_SPLIT_THERMAL_2024_03\"\n",
    "dataset = fo.load_dataset(dataset_name)\n",
    "\n",
    "for sample in dataset.iter_samples(progress=True):\n",
    "\n",
    "    if \"ADDED_YOLO_PREDICTION\" in sample.tags:\n",
    "        continue\n",
    "\n",
    "    frame = cv2.imread(sample.filepath)\n",
    "    h, w, _ = frame.shape\n",
    "    results = model(frame, size=640)\n",
    "\n",
    "    detections = []\n",
    "    for *box, conf, cls in results.xyxy[0]:\n",
    "        # FiftyOne expects [top-left-x, top-left-y, width, height] normalized to [0, 1]\n",
    "        x1, y1, x2, y2 = box\n",
    "        rel_box = [x1 / w, y1 / h, (x2 - x1) / w, (y2 - y1) / h]\n",
    "        detections.append(\n",
    "            fo.Detection(\n",
    "                label=model.names[int(cls)],\n",
    "                bounding_box=rel_box,\n",
    "                confidence=conf,\n",
    "            )\n",
    "        )\n",
    "\n",
    "    det_list = fo.core.labels.Detections(detections=detections)\n",
    "    sample[\"yolo_prediction\"] = det_list\n",
    "    sample.tags.append(\"ADDED_YOLO_PREDICTION\")\n",
    "    sample.save()\n",
    "    \n",
    "dataset.save()"
   ]
  },
  {
   "cell_type": "markdown",
   "metadata": {},
   "source": [
    "### Compute mistakenness"
   ]
  },
  {
   "cell_type": "code",
   "execution_count": null,
   "metadata": {},
   "outputs": [],
   "source": [
    "import fiftyone.brain as fob\n",
    "\n",
    "# Add this field to prevent cast issued when calculating mistakenness (otherwise the mistakeness score will possibly be casted to integers)\n",
    "dataset.add_sample_field(\"mistakenness\", fo.FloatField)\n",
    "\n",
    "\"\"\"\n",
    "    To customize the default settings for mistakenness computation, update the values in the mistakenness.py file located in the fiftyone.brain module:\n",
    "    (fiftyone/brain/internal/core/mistakenness.py lines 34-35)\n",
    "\n",
    "    _MISSED_CONFIDENCE_THRESHOLD = 0.70  # Threshold for detection confidence to be considered as missed\n",
    "    _DETECTION_IOU = 0.2  # Threshold for Intersection over Union (IoU) to consider a detection as a match\n",
    "\"\"\"\n",
    "\n",
    "fob.compute_mistakenness(dataset, pred_field=\"yolo_prediction\", label_field=\"ground_truth_det_cast\")\n"
   ]
  },
  {
   "cell_type": "markdown",
   "metadata": {},
   "source": [
    "### Add mistakenness_loc on sample level"
   ]
  },
  {
   "cell_type": "code",
   "execution_count": 26,
   "metadata": {},
   "outputs": [],
   "source": [
    "def add_mistakenness_loc_metric(dataset, ground_truth_det=\"ground_truth_det\"):\n",
    "    # Specify field as float to prevent cast issues\n",
    "    dataset.add_sample_field(\"mistakenness_loc\", fo.FloatField)\n",
    "\n",
    "    # Loop through samples\n",
    "    for sample in dataset:\n",
    "        detections = sample[ground_truth_det]\n",
    "\n",
    "        # Extract the mistakenness_loc values from detections\n",
    "        mistakenness_loc_values = [\n",
    "            det.mistakenness_loc for det in detections.detections if hasattr(det, \"mistakenness_loc\")\n",
    "        ]\n",
    "\n",
    "        # Assign the maximum mistakenness_loc to the sample field, or -1.0 if there are no detections\n",
    "        sample[\"mistakenness_loc\"] = max(mistakenness_loc_values, default=-1.0)\n",
    "        sample.save()\n",
    "    dataset.save()\n",
    "\n",
    "# Example call\n",
    "add_mistakenness_loc_metric(dataset, ground_truth_det=\"ground_truth_det_cast\")"
   ]
  },
  {
   "cell_type": "markdown",
   "metadata": {},
   "source": [
    "### Sort by mistakenness"
   ]
  },
  {
   "cell_type": "code",
   "execution_count": 27,
   "metadata": {},
   "outputs": [],
   "source": [
    "mistakenness_view = dataset.sort_by(\"mistakenness\", reverse=True)\n",
    "session.view = mistakenness_view"
   ]
  },
  {
   "cell_type": "markdown",
   "metadata": {},
   "source": [
    "### Sort by mistakenness_loc"
   ]
  },
  {
   "cell_type": "code",
   "execution_count": null,
   "metadata": {},
   "outputs": [],
   "source": [
    "mistakenness_view = dataset.sort_by(\"mistakenness_loc\", reverse=True)\n",
    "session.view = mistakenness_view"
   ]
  },
  {
   "cell_type": "markdown",
   "metadata": {},
   "source": [
    "### Delete mistakenness metrics"
   ]
  },
  {
   "cell_type": "code",
   "execution_count": null,
   "metadata": {},
   "outputs": [],
   "source": [
    "dataset.delete_sample_field(\"mistakenness_loc\")\n",
    "dataset.delete_brain_run(\"mistakenness\")\n",
    "dataset.delete_evaluations()"
   ]
  }
 ],
 "metadata": {
  "kernelspec": {
   "display_name": "fo",
   "language": "python",
   "name": "python3"
  },
  "language_info": {
   "codemirror_mode": {
    "name": "ipython",
    "version": 3
   },
   "file_extension": ".py",
   "mimetype": "text/x-python",
   "name": "python",
   "nbconvert_exporter": "python",
   "pygments_lexer": "ipython3",
   "version": "3.10.13"
  }
 },
 "nbformat": 4,
 "nbformat_minor": 2
}
