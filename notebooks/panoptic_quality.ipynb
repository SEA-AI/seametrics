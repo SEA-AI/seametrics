{
 "cells": [
  {
   "cell_type": "code",
   "execution_count": 1,
   "metadata": {},
   "outputs": [],
   "source": [
    "import sys\n",
    "sys.path.append(\"..\")\n",
    "import numpy as np\n",
    "import torch\n",
    "import matplotlib.pyplot as plt\n",
    "from seametrics.panoptic.pq import PanopticQuality"
   ]
  },
  {
   "cell_type": "code",
   "execution_count": null,
   "metadata": {},
   "outputs": [],
   "source": [
    "def show_masks(preds, targets):\n",
    "    plt.subplots(figsize=(2, 2))\n",
    "    plt.imshow(preds[:, :, 0])\n",
    "    for i in range(preds.size(0)):\n",
    "        for j in range(preds.size(1)):\n",
    "            plt.text(i, j, preds[i, j, 1].item(), color=\"red\", label=\"id\")\n",
    "    plt.title(\"Prediction\")\n",
    "    plt.show()\n",
    "\n",
    "    plt.subplots(figsize=(2, 2))\n",
    "    plt.imshow(targets[:, :, 0])\n",
    "    for i in range(preds.size(0)):\n",
    "        for j in range(preds.size(1)):\n",
    "            plt.text(i, j, targets[i, j, 1].item(), color=\"red\", label=\"id\")\n",
    "    plt.title(\"Targets\")\n",
    "    plt.show()"
   ]
  },
  {
   "cell_type": "markdown",
   "metadata": {},
   "source": [
    "# Toy Example"
   ]
  },
  {
   "cell_type": "markdown",
   "metadata": {},
   "source": [
    "### Perfect case"
   ]
  },
  {
   "cell_type": "code",
   "execution_count": null,
   "metadata": {},
   "outputs": [],
   "source": [
    "# preds and targets are of shape (batch_size, img_height, img_width, 2)\n",
    "# the first element in the last dimension is the label category\n",
    "# the second element in the last dimension is the instance id\n",
    "# the instance id is ignored in the computation if the label category belongs to STUFF\n",
    "\n",
    "preds = torch.tensor([[[0, 1], [0, 1], [1, 0]],\n",
    "                      [[2, 0], [2, 0], [1, 0]],\n",
    "                      [[2, 0], [0, 1], [1, 0]]])\n",
    "\n",
    "targets = torch.tensor([[[0, 1], [0, 1], [1, 0]],\n",
    "                        [[2, 0], [2, 0], [1, 0]],\n",
    "                        [[2, 0], [0, 1], [1, 0]]])\n",
    "\n",
    "pq = PanopticQuality(\n",
    "    things={0, 1},\n",
    "    stuffs={2},\n",
    "    return_sq_and_rq=False,\n",
    "    return_per_class=False\n",
    ")\n",
    "score = pq.update_and_compute(preds, targets)\n",
    "print(\"PQ score: \", score.item())\n",
    "show_masks(preds, targets)"
   ]
  },
  {
   "cell_type": "markdown",
   "metadata": {},
   "source": [
    "### Instance ID mismatch"
   ]
  },
  {
   "cell_type": "markdown",
   "metadata": {},
   "source": [
    "If there is a wrong instance ID for a thing, the score is negatively influenced."
   ]
  },
  {
   "cell_type": "code",
   "execution_count": null,
   "metadata": {},
   "outputs": [],
   "source": [
    "preds = torch.tensor([[[0, 2], [0, 1], [1, 0]], # note that the instance id at [0,0] is wrong\n",
    "                      [[2, 0], [2, 0], [1, 0]],\n",
    "                      [[2, 0], [0, 1], [1, 0]]])\n",
    "\n",
    "targets = torch.tensor([[[0, 1], [0, 1], [1, 0]],\n",
    "                        [[2, 0], [2, 0], [1, 0]],\n",
    "                        [[2, 0], [0, 1], [1, 0]]])\n",
    "\n",
    "pq = PanopticQuality(\n",
    "    things={0, 1},\n",
    "    stuffs={2},\n",
    "    return_sq_and_rq=False,\n",
    "    return_per_class=False\n",
    ")\n",
    "score = pq.update_and_compute(preds, targets)\n",
    "print(\"PQ score: \", score.item())\n",
    "show_masks(preds, targets)"
   ]
  },
  {
   "cell_type": "markdown",
   "metadata": {},
   "source": [
    "If there is a wrong instance ID for a stuff, the score doesn't change since stuff labels are merged to one instance per label (e.g. one sky)."
   ]
  },
  {
   "cell_type": "code",
   "execution_count": null,
   "metadata": {},
   "outputs": [],
   "source": [
    "preds = torch.tensor([[[0, 1], [0, 1], [1, 0]], # note that the instance id at [0,0] is wrong\n",
    "                      [[2, 0], [2, 0], [1, 0]],\n",
    "                      [[2, 1], [0, 1], [1, 0]]])\n",
    "\n",
    "targets = torch.tensor([[[0, 1], [0, 1], [1, 0]],\n",
    "                        [[2, 0], [2, 0], [1, 0]],\n",
    "                        [[2, 0], [0, 1], [1, 0]]])\n",
    "\n",
    "pq = PanopticQuality(\n",
    "    things={0, 1},\n",
    "    stuffs={2},\n",
    "    return_sq_and_rq=False,\n",
    "    return_per_class=False\n",
    ")\n",
    "score = pq.update_and_compute(preds, targets)\n",
    "print(\"PQ score: \", score.item())\n",
    "show_masks(preds, targets)"
   ]
  },
  {
   "cell_type": "markdown",
   "metadata": {},
   "source": [
    "### Label mismatch"
   ]
  },
  {
   "cell_type": "markdown",
   "metadata": {},
   "source": [
    "If the label category is wrong (which leads to a wrong instance id), then the score is also negatively impacted."
   ]
  },
  {
   "cell_type": "code",
   "execution_count": null,
   "metadata": {},
   "outputs": [],
   "source": [
    "preds = torch.tensor([[[1, 2], [0, 1], [1, 0]], # note that the label at [0,0] is wrong\n",
    "                      [[2, 0], [2, 0], [1, 0]],\n",
    "                      [[2, 0], [0, 1], [1, 0]]])\n",
    "\n",
    "targets = torch.tensor([[[0, 1], [0, 1], [1, 0]],\n",
    "                        [[2, 0], [2, 0], [1, 0]],\n",
    "                        [[2, 0], [0, 1], [1, 0]]])\n",
    "\n",
    "pq = PanopticQuality(\n",
    "    things={0, 1},\n",
    "    stuffs={2},\n",
    "    return_sq_and_rq=False,\n",
    "    return_per_class=False\n",
    ")\n",
    "score = pq.update_and_compute(preds, targets)\n",
    "print(\"PQ score: \", score.item())\n",
    "show_masks(preds, targets)"
   ]
  },
  {
   "cell_type": "markdown",
   "metadata": {},
   "source": [
    "# SEA.AI Data"
   ]
  },
  {
   "cell_type": "markdown",
   "metadata": {},
   "source": [
    "The following code shows how to calculate a PQ-score for SEA.AI data."
   ]
  },
  {
   "cell_type": "code",
   "execution_count": null,
   "metadata": {},
   "outputs": [],
   "source": [
    "import os\n",
    "os.environ[\"FIFTYONE_CONFIG_PATH\"] = \"/home/jigglypuff/.fiftyone/config.global_mongodb.json\""
   ]
  },
  {
   "cell_type": "code",
   "execution_count": 2,
   "metadata": {},
   "outputs": [],
   "source": [
    "import sys\n",
    "sys.path.append(\"..\")\n",
    "import numpy as np\n",
    "import matplotlib.pyplot as plt\n",
    "from seametrics.panoptic import PanopticQuality\n",
    "from seametrics.panoptic.utils import payload_to_seg_metric\n",
    "from seametrics.payload.processor import PayloadProcessor"
   ]
  },
  {
   "cell_type": "code",
   "execution_count": 48,
   "metadata": {},
   "outputs": [
    {
     "name": "stderr",
     "output_type": "stream",
     "text": [
      "Processing sequences: 100%|██████████| 1/1 [00:00<00:00,  1.35it/s]\n"
     ]
    }
   ],
   "source": [
    "MODEL_FIELD = [\"maskformer-27k-100ep\"]\n",
    "TRIP = [\"Trip_166_Seq_16\"]\n",
    "FRAME_IDX = 2\n",
    "payload = PayloadProcessor(\"SAILING_PANOPTIC_DATASET_QA_REVIEWED\",\n",
    "                        gt_field=\"ground_truth_det\",\n",
    "                        models=MODEL_FIELD,\n",
    "                        sequence_list=TRIP,\n",
    "                        excluded_classes=[\"\"]).payload"
   ]
  },
  {
   "cell_type": "code",
   "execution_count": 49,
   "metadata": {},
   "outputs": [
    {
     "name": "stdout",
     "output_type": "stream",
     "text": [
      "Predicted masks maskformer-27k-100ep:\n"
     ]
    },
    {
     "data": {
      "image/png": "[encoded data removed]",
      "text/plain": [
       "<Figure size 640x480 with 1 Axes>"
      ]
     },
     "metadata": {},
     "output_type": "display_data"
    },
    {
     "name": "stdout",
     "output_type": "stream",
     "text": [
      "Ground truth masks\n"
     ]
    },
    {
     "data": {
      "image/png": "[encoded data removed]",
      "text/plain": [
       "<Figure size 640x480 with 1 Axes>"
      ]
     },
     "metadata": {},
     "output_type": "display_data"
    }
   ],
   "source": [
    "pred, gt, label2id = payload_to_seg_metric(payload, MODEL_FIELD[0])\n",
    "print(f\"Predicted masks {MODEL_FIELD[0]}:\")\n",
    "plt.imshow(pred[FRAME_IDX][:, : , 0]/len(pred[1]*255))\n",
    "plt.show()\n",
    "print(\"Ground truth masks\")\n",
    "plt.imshow(gt[FRAME_IDX][:, : , 0]/len(gt[1])*255)\n",
    "plt.show()"
   ]
  },
  {
   "cell_type": "code",
   "execution_count": 58,
   "metadata": {},
   "outputs": [],
   "source": [
    "DEFAULT_LABEL2ID = {'WATER': 0,\n",
    "                    'SKY': 1,\n",
    "                    'LAND': 2,\n",
    "                    'MOTORBOAT': 3,\n",
    "                    'FAR_AWAY_OBJECT': 4,\n",
    "                    'SAILING_BOAT_WITH_CLOSED_SAILS': 5,\n",
    "                    'SHIP': 6,\n",
    "                    'WATERCRAFT': 7,\n",
    "                    'SPHERICAL_BUOY': 8,\n",
    "                    'CONSTRUCTION': 9,\n",
    "                    'FLOTSAM': 10,\n",
    "                    'SAILING_BOAT_WITH_OPEN_SAILS': 11,\n",
    "                    'CONTAINER': 12,\n",
    "                    'PILLAR_BUOY': 13,\n",
    "                    'AERIAL_ANIMAL': 14,\n",
    "                    'HUMAN_IN_WATER': 15,\n",
    "                    'OWN_BOAT': 16,\n",
    "                    'WOODEN_LOG': 17,\n",
    "                    'MARITIME_ANIMAL': 18}\n",
    "\n",
    "STUFF = [\"WATER\", \"SKY\", \"LAND\", \"CONSTRUCTION\", \"ICE\", \"OWN_BOAT\"]"
   ]
  },
  {
   "cell_type": "code",
   "execution_count": 59,
   "metadata": {},
   "outputs": [],
   "source": [
    "pred_masks, gt_masks, label2id = payload_to_seg_metric(payload, MODEL_FIELD[0], label2id=DEFAULT_LABEL2ID)\n"
   ]
  },
  {
   "cell_type": "code",
   "execution_count": 52,
   "metadata": {},
   "outputs": [],
   "source": [
    "pred_masks[FRAME_IDX][pred_masks[FRAME_IDX] == -1] = 3"
   ]
  },
  {
   "cell_type": "code",
   "execution_count": 53,
   "metadata": {},
   "outputs": [
    {
     "data": {
      "text/plain": [
       "array([0., 2., 3., 4.])"
      ]
     },
     "execution_count": 53,
     "metadata": {},
     "output_type": "execute_result"
    }
   ],
   "source": [
    "np.unique(pred_masks[FRAME_IDX][np.newaxis, :,:,1])"
   ]
  },
  {
   "cell_type": "code",
   "execution_count": 60,
   "metadata": {},
   "outputs": [
    {
     "name": "stdout",
     "output_type": "stream",
     "text": [
      "Added data ...\n"
     ]
    }
   ],
   "source": [
    "pq = PanopticQuality(\n",
    "    things=set([label2id[label] for label in DEFAULT_LABEL2ID.keys() if label not in STUFF]),\n",
    "    stuffs=set([label2id[label] for label in DEFAULT_LABEL2ID.keys() if label in STUFF]),\n",
    "    areas=[(0, 1e5**2),(0**2, 6**2),(6**2, 12**2), (12**2, 1e5**2)]\n",
    ")\n",
    "pq.update(pred_masks[FRAME_IDX][np.newaxis, :,:], gt_masks[FRAME_IDX][np.newaxis, :,:])"
   ]
  },
  {
   "cell_type": "markdown",
   "metadata": {},
   "source": [
    "We can access the inner attributes of the PQ calculation. But this can be only done before calling `metric.compute()` because this will reset all the internal states to 0."
   ]
  },
  {
   "cell_type": "code",
   "execution_count": 61,
   "metadata": {},
   "outputs": [
    {
     "data": {
      "text/plain": [
       "tensor([[1, 0, 0, 0, 0, 0, 0, 0, 0, 0, 0, 0, 0, 0, 1, 1, 0, 0, 0],\n",
       "        [0, 0, 0, 0, 0, 0, 0, 0, 0, 0, 0, 0, 0, 0, 0, 0, 0, 0, 0],\n",
       "        [0, 0, 0, 0, 0, 0, 0, 0, 0, 0, 0, 0, 0, 0, 0, 0, 0, 0, 0],\n",
       "        [1, 0, 0, 0, 0, 0, 0, 0, 0, 0, 0, 0, 0, 0, 1, 1, 0, 0, 0]],\n",
       "       device='cuda:0', dtype=torch.int32)"
      ]
     },
     "execution_count": 61,
     "metadata": {},
     "output_type": "execute_result"
    }
   ],
   "source": [
    "tp = pq.metric.true_positives\n",
    "tp"
   ]
  },
  {
   "cell_type": "code",
   "execution_count": 62,
   "metadata": {},
   "outputs": [
    {
     "data": {
      "text/plain": [
       "tensor([[0, 2, 0, 0, 0, 0, 0, 0, 0, 0, 0, 0, 0, 0, 0, 0, 0, 0, 0],\n",
       "        [0, 0, 0, 0, 0, 0, 0, 0, 0, 0, 0, 0, 0, 0, 0, 0, 0, 0, 0],\n",
       "        [0, 2, 0, 0, 0, 0, 0, 0, 0, 0, 0, 0, 0, 0, 0, 0, 0, 0, 0],\n",
       "        [0, 0, 0, 0, 0, 0, 0, 0, 0, 0, 0, 0, 0, 0, 0, 0, 0, 0, 0]],\n",
       "       device='cuda:0', dtype=torch.int32)"
      ]
     },
     "execution_count": 62,
     "metadata": {},
     "output_type": "execute_result"
    }
   ],
   "source": [
    "fn = pq.metric.false_negatives\n",
    "fn"
   ]
  },
  {
   "cell_type": "code",
   "execution_count": 63,
   "metadata": {},
   "outputs": [
    {
     "data": {
      "text/plain": [
       "tensor([[1, 1, 0, 0, 0, 0, 0, 0, 0, 0, 0, 0, 0, 0, 0, 0, 0, 0, 0],\n",
       "        [0, 0, 0, 0, 0, 0, 0, 0, 0, 0, 0, 0, 0, 0, 0, 0, 0, 0, 0],\n",
       "        [1, 1, 0, 0, 0, 0, 0, 0, 0, 0, 0, 0, 0, 0, 0, 0, 0, 0, 0],\n",
       "        [0, 0, 0, 0, 0, 0, 0, 0, 0, 0, 0, 0, 0, 0, 0, 0, 0, 0, 0]],\n",
       "       device='cuda:0', dtype=torch.int32)"
      ]
     },
     "execution_count": 63,
     "metadata": {},
     "output_type": "execute_result"
    }
   ],
   "source": [
    "fp = pq.metric.false_positives\n",
    "fp"
   ]
  },
  {
   "cell_type": "code",
   "execution_count": null,
   "metadata": {},
   "outputs": [],
   "source": [
    "iou = pq.metric.iou_sum \n",
    "iou"
   ]
  },
  {
   "cell_type": "markdown",
   "metadata": {},
   "source": [
    "Finally, we can compute the result for the single frame."
   ]
  },
  {
   "cell_type": "code",
   "execution_count": null,
   "metadata": {},
   "outputs": [],
   "source": [
    "pq_score, sq, rq = pq.compute()"
   ]
  },
  {
   "cell_type": "code",
   "execution_count": null,
   "metadata": {},
   "outputs": [],
   "source": [
    "pq_score # number cols= number class (first sorted things, then sorted stuffs), number rows = defined area ranges as specified when instance of metric was created"
   ]
  },
  {
   "cell_type": "code",
   "execution_count": null,
   "metadata": {},
   "outputs": [],
   "source": [
    "sq"
   ]
  },
  {
   "cell_type": "code",
   "execution_count": null,
   "metadata": {},
   "outputs": [],
   "source": [
    "rq"
   ]
  },
  {
   "cell_type": "markdown",
   "metadata": {},
   "source": [
    "We can also calculate the score over the whole sequence. Instead of calling `metric.update(preds, targets)` and `metric.compute()`, we do this together with `metric.update_and_compute(preds, targets)`."
   ]
  },
  {
   "cell_type": "code",
   "execution_count": null,
   "metadata": {},
   "outputs": [],
   "source": [
    "pq_score, sq, rq = pq.update_and_compute(pred_masks, gt_masks) "
   ]
  },
  {
   "cell_type": "markdown",
   "metadata": {},
   "source": [
    "Finally, we can adapt if we want the result to be aggregated over classes and/or over areas."
   ]
  },
  {
   "cell_type": "code",
   "execution_count": null,
   "metadata": {},
   "outputs": [],
   "source": [
    "pq = PanopticQuality(\n",
    "    things=set([label2id[label] for label in DEFAULT_LABEL2ID.keys() if label not in STUFF]),\n",
    "    stuffs=set([label2id[label] for label in DEFAULT_LABEL2ID.keys() if label in STUFF]),\n",
    "    areas=[(0, 1e5**2),(0**2, 6**2),(6**2, 12**2), (12**2, 1e5**2)],\n",
    "    return_sq_and_rq=False\n",
    ")\n",
    "pq_score = pq.update_and_compute(pred_masks, gt_masks) \n",
    "pq_score"
   ]
  },
  {
   "cell_type": "code",
   "execution_count": null,
   "metadata": {},
   "outputs": [],
   "source": [
    "pq = PanopticQuality(\n",
    "    things=set([label2id[label] for label in DEFAULT_LABEL2ID.keys() if label not in STUFF]),\n",
    "    stuffs=set([label2id[label] for label in DEFAULT_LABEL2ID.keys() if label in STUFF]),\n",
    "    areas=[(0, 1e5**2),(0**2, 6**2),(6**2, 12**2), (12**2, 1e5**2)],\n",
    "    return_sq_and_rq=False,\n",
    "    return_per_class=False\n",
    ")\n",
    "pq.update(pred_masks, gt_masks) \n",
    "pq.compute()"
   ]
  }
 ],
 "metadata": {
  "kernelspec": {
   "display_name": "ML",
   "language": "python",
   "name": "python3"
  },
  "language_info": {
   "codemirror_mode": {
    "name": "ipython",
    "version": 3
   },
   "file_extension": ".py",
   "mimetype": "text/x-python",
   "name": "python",
   "nbconvert_exporter": "python",
   "pygments_lexer": "ipython3",
   "version": "3.12.1"
  }
 },
 "nbformat": 4,
 "nbformat_minor": 2
}
