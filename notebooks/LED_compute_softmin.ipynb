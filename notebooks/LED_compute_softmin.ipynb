{
 "cells": [
  {
   "cell_type": "code",
   "execution_count": 16,
   "metadata": {},
   "outputs": [],
   "source": [
    "import torch\n",
    "from tqdm import tqdm\n",
    "from transformers import MaskFormerForInstanceSegmentation, MaskFormerImageProcessor\n",
    "import cv2\n",
    "import numpy as np\n",
    "import torch.nn.functional as NNF\n",
    "from fiftyone import ViewField as F\n",
    "import fiftyone as fo\n",
    "from cleanlab.segmentation.rank import get_label_quality_scores, issues_from_scores \n",
    "from cleanlab.segmentation.summary import display_issues\n",
    "from cleanlab.segmentation.filter import find_label_issues \n",
    "import time\n",
    "from transformers import MaskFormerForInstanceSegmentation\n",
    "from PIL import Image\n",
    "import albumentations as A\n"
   ]
  },
  {
   "cell_type": "code",
   "execution_count": 32,
   "metadata": {},
   "outputs": [],
   "source": [
    "DEVICE = torch.device(\"cuda\" if torch.cuda.is_available() else \"cpu\")\n",
    "DATASET_NAME = \"TRAIN_PANOPTIC_DATASET\"\n",
    "MODEL_PATH =  \"/mnt/hdd/maryam/models/model_panoptik_27k_saved_100epochs/last_model\"\n",
    "MODEL_NAME = \"maskformer-27k-100epochs\"\n",
    "field_to_save = \"softmin_errors\"\n",
    "TARGET_SIZE = (640, 512)"
   ]
  },
  {
   "cell_type": "code",
   "execution_count": 33,
   "metadata": {},
   "outputs": [],
   "source": [
    "ADE_MEAN = np.array([123.675, 116.280, 103.530]) / 255\n",
    "ADE_STD = np.array([58.395, 57.120, 57.375]) / 255\n",
    "\n",
    "image_transform = A.Compose([\n",
    "    A.Resize(width=512, height=512),\n",
    "    A.Normalize(mean=ADE_MEAN, std=ADE_STD),\n",
    "])"
   ]
  },
  {
   "cell_type": "code",
   "execution_count": 34,
   "metadata": {},
   "outputs": [],
   "source": [
    "dataset = fo.load_dataset(DATASET_NAME) "
   ]
  },
  {
   "cell_type": "code",
   "execution_count": 37,
   "metadata": {},
   "outputs": [],
   "source": [
    "# dataset_view = dataset.match(F(\"filepath\").ends_with([\"17995902_r.jpg\", \"15616105_r.jpg\", \"23562072_r.jpg\"])) #change this to be smaller than the entire dataset if you want to do a quick test\n",
    "dataset_view = dataset.match(F(\"filepath\").ends_with([\"1289076_l.jpg\"])) #change this to be smaller than the entire dataset if you want to do a quick test\n",
    "\n",
    "# dataset_view = dataset.match(F(\"metadata.height\")==640) "
   ]
  },
  {
   "cell_type": "code",
   "execution_count": 38,
   "metadata": {},
   "outputs": [],
   "source": [
    "model = MaskFormerForInstanceSegmentation.from_pretrained(MODEL_PATH).to(DEVICE)\n",
    "processor = MaskFormerImageProcessor.from_pretrained(MODEL_PATH, use_tensors=True)"
   ]
  },
  {
   "cell_type": "code",
   "execution_count": 39,
   "metadata": {},
   "outputs": [],
   "source": [
    "label_to_id = model.config.label2id\n",
    "model_labels =  model.config.id2label\n",
    "class_names = [v for k,v in model_labels.items()]"
   ]
  },
  {
   "cell_type": "code",
   "execution_count": 43,
   "metadata": {},
   "outputs": [],
   "source": [
    "def transform_mask_to_image_size(image_size, bbox, mask, index):\n",
    "    height, width = image_size\n",
    "    image_size_mask = np.zeros(image_size, dtype=np.uint8)\n",
    "    \n",
    "    # Unpack bounding box coordinates\n",
    "    left, top, bbox_width, bbox_height = bbox\n",
    "    # Calculate absolute coordinates\n",
    "    abs_top = int(top * height)\n",
    "    abs_left = int(left * width)\n",
    "    abs_bottom = min(abs_top + int(bbox_height * height), height)\n",
    "    abs_right = min(abs_left + int(bbox_width * width), width)\n",
    "    \n",
    "    # Calculate the actual height and width of the mask area\n",
    "    actual_height = abs_bottom - abs_top\n",
    "    actual_width = abs_right - abs_left\n",
    "\n",
    "    # Resize the mask if its dimensions do not match the bounding box slice dimensions\n",
    "    if (mask.shape[0] != actual_height) or (mask.shape[1] != actual_width):\n",
    "        # If resizing is needed, consider using interpolation methods appropriate for mask data\n",
    "        resized_mask = np.zeros((actual_height, actual_width), dtype=mask.dtype)\n",
    "        scale_y = actual_height / mask.shape[0]\n",
    "        scale_x = actual_width / mask.shape[1]\n",
    "        for i in range(actual_height):\n",
    "            for j in range(actual_width):\n",
    "                orig_y = int(i / scale_y)\n",
    "                orig_x = int(j / scale_x)\n",
    "                resized_mask[i, j] = mask[orig_y, orig_x]\n",
    "        mask = resized_mask\n",
    "    # Place mask in image mask\n",
    "    image_size_mask[abs_top:abs_bottom, abs_left:abs_right] = mask * index\n",
    "\n",
    "    return image_size_mask\n",
    "\n",
    "def create_image_mask(annotations, image_size):\n",
    "    \"\"\"\n",
    "    Create an image mask from a list of mask annotations.\n",
    "    \n",
    "    Args:\n",
    "    - annotations: List of annotations, where each annotation is a dictionary with keys 'bounding_box', 'mask', and 'index'.\n",
    "    - image_size: Tuple (height, width) representing the size of the image mask to be created.\n",
    "    \n",
    "    Returns:\n",
    "    - image_mask: NumPy array representing the image mask with object indexes.\n",
    "    \"\"\"\n",
    "    height, width = image_size\n",
    "    image_mask = np.zeros((height, width), dtype=np.uint8)\n",
    "    \n",
    "    for annotation in annotations:\n",
    "        bbox = annotation['bounding_box']\n",
    "        mask = annotation['mask']\n",
    "        index = label_to_id[annotation['label']]\n",
    "        \n",
    "        object_mask_full = transform_mask_to_image_size(image_size, bbox, mask, index)\n",
    "        image_mask[object_mask_full>0] = index\n",
    "\n",
    "    return image_mask\n",
    "\n",
    "def normalize_mask(mask, obj_id):\n",
    "    # Find pixels belonging to the current object\n",
    "    y_indices, x_indices = np.where(mask == obj_id)\n",
    "        \n",
    "    # Calculate the bounding box\n",
    "    x_min, x_max = x_indices.min(), x_indices.max()\n",
    "    y_min, y_max = y_indices.min(), y_indices.max()\n",
    "\n",
    "    # Normalize the bounding box\n",
    "    top, left = y_min / mask.shape[0], x_min / mask.shape[1]\n",
    "    width, height = (x_max - x_min) / mask.shape[1], (y_max - y_min) / mask.shape[0]\n",
    "    normalized_bb = [left, top, width, height]\n",
    "\n",
    "    # Create a binary mask for the object\n",
    "    obj_mask = (mask[y_min:y_max+1, x_min:x_max+1] == obj_id).astype(np.uint8)\n",
    "\n",
    "    return normalized_bb, obj_mask\n",
    "\n",
    "\n",
    "def softmin_output_to_fo_format(mask):\n",
    "    objects = np.unique(mask)\n",
    "    objects = objects[objects != 0]  # Exclude background\n",
    "\n",
    "    fo_annotations = []\n",
    "    for obj_id in objects:\n",
    "\n",
    "        normalized_bb, obj_mask = normalize_mask(mask, obj_id)\n",
    "\n",
    "        annotation = fo.Detection(bounding_box=normalized_bb, mask=obj_mask, label='softmin_error')\n",
    "        fo_annotations.append(annotation)\n",
    "\n",
    "    return fo_annotations"
   ]
  },
  {
   "cell_type": "code",
   "execution_count": 44,
   "metadata": {},
   "outputs": [
    {
     "name": "stderr",
     "output_type": "stream",
     "text": [
      "  0%|          | 0/1 [00:00<?, ?it/s]"
     ]
    },
    {
     "name": "stdout",
     "output_type": "stream",
     "text": [
      "(640, 512, 3)\n",
      "/mnt/fiftyoneDB/Database/Image_Data/Thermal_Images_8Bit/Trip_17_Seq_32/1289076_l.jpg\n",
      "len pred probs  1\n",
      "ground_truth_label shape (1, 640, 512)\n"
     ]
    },
    {
     "data": {
      "application/vnd.jupyter.widget-view+json": {
       "model_id": "3b9a210c73474f1b8439d6ab9d1253ba",
       "version_major": 2,
       "version_minor": 0
      },
      "text/plain": [
       "number of examples processed for estimating thresholds:   0%|          | 0/1 [00:00<?, ?it/s]"
      ]
     },
     "metadata": {},
     "output_type": "display_data"
    },
    {
     "data": {
      "application/vnd.jupyter.widget-view+json": {
       "model_id": "b8c0fcb3b9b94381aca5b2e12736790a",
       "version_major": 2,
       "version_minor": 0
      },
      "text/plain": [
       "number of examples processed for checking labels:   0%|          | 0/1 [00:00<?, ?it/s]"
      ]
     },
     "metadata": {},
     "output_type": "display_data"
    },
    {
     "name": "stdout",
     "output_type": "stream",
     "text": [
      "Total number of examples whose labels have been evaluated: 20480\n"
     ]
    },
    {
     "data": {
      "application/vnd.jupyter.widget-view+json": {
       "model_id": "b869c272f05144e2839256719524880a",
       "version_major": 2,
       "version_minor": 0
      },
      "text/plain": [
       "images processed using softmin:   0%|          | 0/1 [00:00<?, ?it/s]"
      ]
     },
     "metadata": {},
     "output_type": "display_data"
    },
    {
     "name": "stderr",
     "output_type": "stream",
     "text": [
      "100%|██████████| 1/1 [00:02<00:00,  2.84s/it]"
     ]
    },
    {
     "name": "stdout",
     "output_type": "stream",
     "text": [
      "It took 3.143937587738037 for 10\n"
     ]
    },
    {
     "name": "stderr",
     "output_type": "stream",
     "text": [
      "\n"
     ]
    }
   ],
   "source": [
    "num_samples = 10\n",
    "# dataset_view = dataset.match(F(\"metadata.height\")==640).take(num_samples)\n",
    "\n",
    "pred_probs_list = []\n",
    "ground_truth_labels_list = []\n",
    "\n",
    "time0 = time.time()\n",
    "for sample in tqdm(dataset_view):\n",
    "    image_filepath = sample.filepath\n",
    "    # image = Image.open(image_filepath).convert('RGB')\n",
    "    image = np.array(Image.open(image_filepath))\n",
    "    image = cv2.cvtColor(image, cv2.COLOR_BGR2RGB)\n",
    "    print(image.shape)\n",
    "    print(image_filepath)\n",
    "    image = Image.fromarray(image)\n",
    "    \n",
    "\n",
    "    pixel_values = image_transform(image=np.array(image))[\"image\"]\n",
    "    pixel_values = np.moveaxis(pixel_values, -1, 0)\n",
    "    pixel_values = torch.from_numpy(pixel_values).unsqueeze(0)\n",
    "\n",
    "    with torch.no_grad():\n",
    "        outputs = model(pixel_values.to(DEVICE))\n",
    "\n",
    "\n",
    "    class_queries_logits = outputs.class_queries_logits  # [batch_size, num_queries, num_classes+1]\n",
    "    masks_queries_logits = outputs.masks_queries_logits  # [batch_size, num_queries, height, width]\n",
    "\n",
    "    # Compute probabilities and remove the null class `[..., :-1]`\n",
    "    masks_classes = class_queries_logits.softmax(dim=-1)[..., :-1]\n",
    "    masks_probs = masks_queries_logits.sigmoid()  # [batch_size, num_queries, height, width]\n",
    "\n",
    "    # Compute semantic segmentation probabilities of shape (batch_size, num_classes, height, width)\n",
    "    pred_probs = torch.einsum(\"bqc, bqhw -> bchw\", masks_classes, masks_probs)\n",
    "    print(\"len pred probs \", len(pred_probs))\n",
    "    target_sizes=[image.size[::-1]]\n",
    "    # target_sizes = [TARGET_SIZE]\n",
    "    for idx in range(len(pred_probs)):\n",
    "        resized_probs = NNF.interpolate(\n",
    "            pred_probs[idx].unsqueeze(dim=0), size=target_sizes[idx], mode='bilinear', align_corners=False\n",
    "        )\n",
    "    pred_probs_np = resized_probs.cpu().numpy()\n",
    "\n",
    "    # ground_truth_label = create_image_mask(sample['ground_truth_det.detections'], image.size)\n",
    "    image_size = (image.size[1], image.size[0])\n",
    "\n",
    "    ground_truth_label = np.expand_dims(create_image_mask(sample['ground_truth_det.detections'], image_size), axis=0)\n",
    "    \n",
    "    print(\"ground_truth_label shape\", ground_truth_label.shape)\n",
    "    pred_probs_list.append(np.squeeze(pred_probs_np))\n",
    "    ground_truth_labels_list.append(np.squeeze(ground_truth_label))\n",
    "\n",
    "    issues = find_label_issues(ground_truth_label, pred_probs_np, downsample = 4, n_jobs=None, batch_size=1)\n",
    "    image_scores, pixel_scores = get_label_quality_scores(labels=ground_truth_label, pred_probs=pred_probs_np)\n",
    "    issues_from_score = issues_from_scores(image_scores, pixel_scores, threshold=0.5)\n",
    "\n",
    "    issues_mask = np.squeeze(issues_from_score.astype(int))\n",
    "\n",
    "    fo_annotations = softmin_output_to_fo_format(issues_mask)\n",
    "\n",
    "    # Softmin_score ranges from 0 to 1, such that lower scores indicate images more likely to contain some mislabeled pixels.\n",
    "    sample['softmin_score'] = round(image_scores[0],4)\n",
    "    #save in the required field in fiftyone sample\n",
    "    sample[field_to_save] = fo.Detections(detections=fo_annotations)\n",
    "    sample.save()\n",
    "\n",
    "time1 = time.time()\n",
    "print(f\"It took {str(time1-time0)} for {num_samples}\")\n",
    "\n",
    "pred_probs_all_np = np.stack(pred_probs_list, axis=0)\n",
    "ground_truth_labels_all_np = np.stack(ground_truth_labels_list, axis=0)\n"
   ]
  },
  {
   "cell_type": "code",
   "execution_count": 45,
   "metadata": {},
   "outputs": [
    {
     "data": {
      "application/vnd.jupyter.widget-view+json": {
       "model_id": "38405952140c4aeaa05d06e7b6e7fc68",
       "version_major": 2,
       "version_minor": 0
      },
      "text/plain": [
       "number of examples processed for estimating thresholds:   0%|          | 0/1 [00:00<?, ?it/s]"
      ]
     },
     "metadata": {},
     "output_type": "display_data"
    },
    {
     "data": {
      "application/vnd.jupyter.widget-view+json": {
       "model_id": "40f05684112140759d6b0246f4884655",
       "version_major": 2,
       "version_minor": 0
      },
      "text/plain": [
       "number of examples processed for checking labels:   0%|          | 0/1 [00:00<?, ?it/s]"
      ]
     },
     "metadata": {},
     "output_type": "display_data"
    },
    {
     "name": "stdout",
     "output_type": "stream",
     "text": [
      "Total number of examples whose labels have been evaluated: 20480\n"
     ]
    },
    {
     "data": {
      "application/vnd.jupyter.widget-view+json": {
       "model_id": "0153ad0864f346149ea2bd9d971222ce",
       "version_major": 2,
       "version_minor": 0
      },
      "text/plain": [
       "images processed using softmin:   0%|          | 0/1 [00:00<?, ?it/s]"
      ]
     },
     "metadata": {},
     "output_type": "display_data"
    },
    {
     "data": {
      "image/png": "[encoded data removed]",
      "text/plain": [
       "<Figure size 1500x500 with 3 Axes>"
      ]
     },
     "metadata": {},
     "output_type": "display_data"
    }
   ],
   "source": [
    "issues = find_label_issues(ground_truth_labels_all_np, pred_probs_all_np, downsample = 4, n_jobs=None, batch_size=1)\n",
    "image_scores, pixel_scores = get_label_quality_scores(labels=ground_truth_labels_all_np, pred_probs=pred_probs_all_np)\n",
    "issues_from_score = issues_from_scores(image_scores, pixel_scores, threshold=0.5)\n",
    "\n",
    "display_issues(issues_from_score, labels=ground_truth_label, pred_probs=pred_probs_np, top=5)"
   ]
  },
  {
   "cell_type": "code",
   "execution_count": null,
   "metadata": {},
   "outputs": [],
   "source": []
  }
 ],
 "metadata": {
  "kernelspec": {
   "display_name": "softmin",
   "language": "python",
   "name": "python3"
  },
  "language_info": {
   "codemirror_mode": {
    "name": "ipython",
    "version": 3
   },
   "file_extension": ".py",
   "mimetype": "text/x-python",
   "name": "python",
   "nbconvert_exporter": "python",
   "pygments_lexer": "ipython3",
   "version": "3.9.18"
  }
 },
 "nbformat": 4,
 "nbformat_minor": 2
}
