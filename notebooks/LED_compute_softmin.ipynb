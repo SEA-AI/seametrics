{
 "cells": [
  {
   "cell_type": "code",
   "execution_count": 58,
   "metadata": {},
   "outputs": [],
   "source": [
    "import torch\n",
    "from tqdm import tqdm\n",
    "from transformers import MaskFormerForInstanceSegmentation, MaskFormerImageProcessor\n",
    "import cv2\n",
    "import numpy as np\n",
    "import torch.nn.functional as NNF\n",
    "from fiftyone import ViewField as F\n",
    "import fiftyone as fo\n",
    "from cleanlab.segmentation.rank import get_label_quality_scores, issues_from_scores \n",
    "from cleanlab.segmentation.summary import display_issues\n",
    "from cleanlab.segmentation.filter import find_label_issues \n",
    "import time\n",
    "from transformers import MaskFormerForInstanceSegmentation\n",
    "from PIL import Image\n",
    "import albumentations as A\n"
   ]
  },
  {
   "cell_type": "code",
   "execution_count": 59,
   "metadata": {},
   "outputs": [],
   "source": [
    "DEVICE = torch.device(\"cuda\" if torch.cuda.is_available() else \"cpu\")\n",
    "DATASET_NAME = \"TRAIN_PANOPTIC_DATASET\"\n",
    "MODEL_PATH =  \"/mnt/hdd/maryam/models/model_panoptik_27k_saved_100epochs/last_model\"\n",
    "MODEL_NAME = \"maskformer-27k-100epochs\"\n",
    "# CATEGORIES_JSON_PATH =os.path.join(TEST_DATASET_PATH, \"panoptic_seaai_categories.json\")\n",
    "CLASS_NAMES = ['AERIAL_ANIMAL', 'CONSTRUCTION', 'CONTAINER', 'FAR_AWAY_OBJECT', 'FLOTSAM', 'HUMAN_IN_WATER', 'LAND', 'MARITIME_ANIMAL', 'MOTORBOAT', 'OWN_BOAT', 'PILLAR_BUOY', 'SAILING_BOAT_WITH_CLOSED_SAILS', 'SAILING_BOAT_WITH_OPEN_SAILS', 'SHIP', 'SKY', 'SPHERICAL_BUOY', 'WATER', 'WATERCRAFT']\n",
    "TARGET_SIZE = (640, 512)"
   ]
  },
  {
   "cell_type": "code",
   "execution_count": 60,
   "metadata": {},
   "outputs": [],
   "source": [
    "ADE_MEAN = np.array([123.675, 116.280, 103.530]) / 255\n",
    "ADE_STD = np.array([58.395, 57.120, 57.375]) / 255\n",
    "\n",
    "image_transform = A.Compose([\n",
    "    A.Resize(width=512, height=512),\n",
    "    A.Normalize(mean=ADE_MEAN, std=ADE_STD),\n",
    "])"
   ]
  },
  {
   "cell_type": "code",
   "execution_count": 61,
   "metadata": {},
   "outputs": [],
   "source": [
    "dataset = fo.load_dataset(DATASET_NAME) "
   ]
  },
  {
   "cell_type": "code",
   "execution_count": 83,
   "metadata": {},
   "outputs": [],
   "source": [
    "# dataset_view = dataset.match(F(\"filepath\").ends_with([\"17995902_r.jpg\", \"15616105_r.jpg\", \"23562072_r.jpg\"])) #change this to be smaller than the entire dataset if you want to do a quick test\n",
    "dataset_view = dataset.match(F(\"metadata.height\")==640) "
   ]
  },
  {
   "cell_type": "code",
   "execution_count": 84,
   "metadata": {},
   "outputs": [
    {
     "data": {
      "text/plain": [
       "(274555, 250206)"
      ]
     },
     "execution_count": 84,
     "metadata": {},
     "output_type": "execute_result"
    }
   ],
   "source": [
    "len(dataset), len(dataset_view)"
   ]
  },
  {
   "cell_type": "code",
   "execution_count": 85,
   "metadata": {},
   "outputs": [],
   "source": [
    "model = MaskFormerForInstanceSegmentation.from_pretrained(MODEL_PATH).to(DEVICE)\n",
    "processor = MaskFormerImageProcessor.from_pretrained(MODEL_PATH, use_tensors=True)"
   ]
  },
  {
   "cell_type": "code",
   "execution_count": 86,
   "metadata": {},
   "outputs": [
    {
     "data": {
      "text/plain": [
       "['AERIAL_ANIMAL',\n",
       " 'CONSTRUCTION',\n",
       " 'CONTAINER',\n",
       " 'FAR_AWAY_OBJECT',\n",
       " 'FLOTSAM',\n",
       " 'HUMAN_IN_WATER',\n",
       " 'LAND',\n",
       " 'MARITIME_ANIMAL',\n",
       " 'MOTORBOAT',\n",
       " 'OWN_BOAT',\n",
       " 'PILLAR_BUOY',\n",
       " 'SAILING_BOAT_WITH_CLOSED_SAILS',\n",
       " 'SAILING_BOAT_WITH_OPEN_SAILS',\n",
       " 'SHIP',\n",
       " 'SKY',\n",
       " 'SPHERICAL_BUOY',\n",
       " 'WATER',\n",
       " 'WATERCRAFT']"
      ]
     },
     "execution_count": 86,
     "metadata": {},
     "output_type": "execute_result"
    }
   ],
   "source": [
    "model_labels =  model.config.id2label\n",
    "[v for k,v in model_labels.items()]"
   ]
  },
  {
   "cell_type": "code",
   "execution_count": 87,
   "metadata": {},
   "outputs": [],
   "source": [
    "label_to_id = model.config.label2id"
   ]
  },
  {
   "cell_type": "code",
   "execution_count": 88,
   "metadata": {},
   "outputs": [],
   "source": [
    "def transform_mask_to_image_size(image_size, bbox, mask, index):\n",
    "    height, width = image_size\n",
    "    image_size_mask = np.zeros(image_size, dtype=np.uint8)\n",
    "    \n",
    "    # Unpack bounding box coordinates\n",
    "    left, top, bbox_width, bbox_height = bbox\n",
    "    # Calculate absolute coordinates\n",
    "    abs_top = int(top * height)\n",
    "    abs_left = int(left * width)\n",
    "    abs_bottom = min(abs_top + int(bbox_height * height), height)\n",
    "    abs_right = min(abs_left + int(bbox_width * width), width)\n",
    "    \n",
    "    # Place mask in image mask\n",
    "    image_size_mask[abs_top:abs_bottom, abs_left:abs_right] = mask * index\n",
    "\n",
    "    return image_size_mask\n",
    "\n",
    "def create_image_mask(annotations, image_size):\n",
    "    \"\"\"\n",
    "    Create an image mask from a list of mask annotations.\n",
    "    \n",
    "    Args:\n",
    "    - annotations: List of annotations, where each annotation is a dictionary with keys 'bounding_box', 'mask', and 'index'.\n",
    "    - image_size: Tuple (height, width) representing the size of the image mask to be created.\n",
    "    \n",
    "    Returns:\n",
    "    - image_mask: NumPy array representing the image mask with object indexes.\n",
    "    \"\"\"\n",
    "    height, width = image_size\n",
    "    image_mask = np.zeros((height, width), dtype=np.uint8)\n",
    "    \n",
    "    for annotation in annotations:\n",
    "        bbox = annotation['bounding_box']\n",
    "        mask = annotation['mask']\n",
    "        index = label_to_id[annotation['label']]\n",
    "        \n",
    "        object_mask_full = transform_mask_to_image_size(image_size, bbox, mask, index)\n",
    "        image_mask[object_mask_full>0] = index\n",
    "\n",
    "    return image_mask\n",
    "\n",
    "def normalize_mask(mask, obj_id):\n",
    "    # Find pixels belonging to the current object\n",
    "    y_indices, x_indices = np.where(mask == obj_id)\n",
    "        \n",
    "    # Calculate the bounding box\n",
    "    x_min, x_max = x_indices.min(), x_indices.max()\n",
    "    y_min, y_max = y_indices.min(), y_indices.max()\n",
    "\n",
    "    # Normalize the bounding box\n",
    "    top, left = y_min / mask.shape[0], x_min / mask.shape[1]\n",
    "    width, height = (x_max - x_min) / mask.shape[1], (y_max - y_min) / mask.shape[0]\n",
    "    normalized_bb = [left, top, width, height]\n",
    "\n",
    "    # Create a binary mask for the object\n",
    "    obj_mask = (mask[y_min:y_max+1, x_min:x_max+1] == obj_id).astype(np.uint8)\n",
    "\n",
    "    return normalized_bb, obj_mask\n",
    "\n",
    "\n",
    "def softmin_output_to_fo_format(mask):\n",
    "    objects = np.unique(mask)\n",
    "    objects = objects[objects != 0]  # Exclude background\n",
    "\n",
    "    fo_annotations = []\n",
    "    for obj_id in objects:\n",
    "\n",
    "        normalized_bb, obj_mask = normalize_mask(mask, obj_id)\n",
    "\n",
    "        annotation = fo.Detection(bounding_box=normalized_bb, mask=obj_mask, label='softmin_error')\n",
    "        fo_annotations.append(annotation)\n",
    "\n",
    "    return fo_annotations"
   ]
  },
  {
   "cell_type": "code",
   "execution_count": 89,
   "metadata": {},
   "outputs": [
    {
     "name": "stderr",
     "output_type": "stream",
     "text": [
      "  0%|          | 0/10 [00:00<?, ?it/s]"
     ]
    },
    {
     "name": "stdout",
     "output_type": "stream",
     "text": [
      "(640, 512, 3)\n",
      "/mnt/fiftyoneDB/Database/Image_Data/Thermal_Images_8Bit/Trip_169_Seq_22/9295954_l.jpg\n",
      "len pred probs  1\n",
      "ground_truth_label shape (1, 640, 512)\n"
     ]
    },
    {
     "data": {
      "application/vnd.jupyter.widget-view+json": {
       "model_id": "9174771e2c474efcafdcd52911685c82",
       "version_major": 2,
       "version_minor": 0
      },
      "text/plain": [
       "number of examples processed for estimating thresholds:   0%|          | 0/1 [00:00<?, ?it/s]"
      ]
     },
     "metadata": {},
     "output_type": "display_data"
    },
    {
     "data": {
      "application/vnd.jupyter.widget-view+json": {
       "model_id": "d03a323e281e4dfbbcbb18498c0c193f",
       "version_major": 2,
       "version_minor": 0
      },
      "text/plain": [
       "number of examples processed for checking labels:   0%|          | 0/1 [00:00<?, ?it/s]"
      ]
     },
     "metadata": {},
     "output_type": "display_data"
    },
    {
     "name": "stdout",
     "output_type": "stream",
     "text": [
      "Total number of examples whose labels have been evaluated: 20480\n"
     ]
    },
    {
     "data": {
      "application/vnd.jupyter.widget-view+json": {
       "model_id": "d7ba498caf0443b0ac7b9b947a23ddec",
       "version_major": 2,
       "version_minor": 0
      },
      "text/plain": [
       "images processed using softmin:   0%|          | 0/1 [00:00<?, ?it/s]"
      ]
     },
     "metadata": {},
     "output_type": "display_data"
    },
    {
     "name": "stderr",
     "output_type": "stream",
     "text": [
      " 10%|█         | 1/10 [00:02<00:22,  2.53s/it]"
     ]
    },
    {
     "name": "stdout",
     "output_type": "stream",
     "text": [
      "(640, 512, 3)\n",
      "/mnt/fiftyoneDB/Database/Image_Data/Thermal_Images_8Bit/Trip_361_Seq_147/24595227_r.jpg\n",
      "len pred probs  1\n",
      "ground_truth_label shape (1, 640, 512)\n"
     ]
    },
    {
     "data": {
      "application/vnd.jupyter.widget-view+json": {
       "model_id": "dbe77c7fe4ca4a4a9a00d67dd1345a30",
       "version_major": 2,
       "version_minor": 0
      },
      "text/plain": [
       "number of examples processed for estimating thresholds:   0%|          | 0/1 [00:00<?, ?it/s]"
      ]
     },
     "metadata": {},
     "output_type": "display_data"
    },
    {
     "data": {
      "application/vnd.jupyter.widget-view+json": {
       "model_id": "d9582cbfb34f4264ad5b20645164dfad",
       "version_major": 2,
       "version_minor": 0
      },
      "text/plain": [
       "number of examples processed for checking labels:   0%|          | 0/1 [00:00<?, ?it/s]"
      ]
     },
     "metadata": {},
     "output_type": "display_data"
    },
    {
     "name": "stdout",
     "output_type": "stream",
     "text": [
      "Total number of examples whose labels have been evaluated: 20480\n"
     ]
    },
    {
     "data": {
      "application/vnd.jupyter.widget-view+json": {
       "model_id": "1099615b56cc488e9af12ef50b085e92",
       "version_major": 2,
       "version_minor": 0
      },
      "text/plain": [
       "images processed using softmin:   0%|          | 0/1 [00:00<?, ?it/s]"
      ]
     },
     "metadata": {},
     "output_type": "display_data"
    },
    {
     "name": "stderr",
     "output_type": "stream",
     "text": [
      " 20%|██        | 2/10 [00:03<00:12,  1.50s/it]"
     ]
    },
    {
     "name": "stdout",
     "output_type": "stream",
     "text": [
      "(640, 512, 3)\n",
      "/mnt/fiftyoneDB/Database/Image_Data/Thermal_Images_8Bit/Trip_289_Seq_9/23565444_r.jpg\n",
      "len pred probs  1\n",
      "ground_truth_label shape (1, 640, 512)\n"
     ]
    },
    {
     "data": {
      "application/vnd.jupyter.widget-view+json": {
       "model_id": "9177fa2637da474fb06679f4b0a4e14a",
       "version_major": 2,
       "version_minor": 0
      },
      "text/plain": [
       "number of examples processed for estimating thresholds:   0%|          | 0/1 [00:00<?, ?it/s]"
      ]
     },
     "metadata": {},
     "output_type": "display_data"
    },
    {
     "data": {
      "application/vnd.jupyter.widget-view+json": {
       "model_id": "d880cd1fc0b242bfa46c2afdb31e3aca",
       "version_major": 2,
       "version_minor": 0
      },
      "text/plain": [
       "number of examples processed for checking labels:   0%|          | 0/1 [00:00<?, ?it/s]"
      ]
     },
     "metadata": {},
     "output_type": "display_data"
    },
    {
     "name": "stdout",
     "output_type": "stream",
     "text": [
      "Total number of examples whose labels have been evaluated: 20480\n"
     ]
    },
    {
     "data": {
      "application/vnd.jupyter.widget-view+json": {
       "model_id": "0fcc3d96549f4ac59e3bd10e70e81cee",
       "version_major": 2,
       "version_minor": 0
      },
      "text/plain": [
       "images processed using softmin:   0%|          | 0/1 [00:00<?, ?it/s]"
      ]
     },
     "metadata": {},
     "output_type": "display_data"
    },
    {
     "name": "stderr",
     "output_type": "stream",
     "text": [
      " 30%|███       | 3/10 [00:04<00:08,  1.18s/it]"
     ]
    },
    {
     "name": "stdout",
     "output_type": "stream",
     "text": [
      "(640, 512, 3)\n",
      "/mnt/fiftyoneDB/Database/Image_Data/Thermal_Images_8Bit/Trip_239_Seq_20/17954445_l.jpg\n",
      "len pred probs  1\n",
      "ground_truth_label shape (1, 640, 512)\n"
     ]
    },
    {
     "data": {
      "application/vnd.jupyter.widget-view+json": {
       "model_id": "6bd508d80a4b40cabd0aabe62ec74226",
       "version_major": 2,
       "version_minor": 0
      },
      "text/plain": [
       "number of examples processed for estimating thresholds:   0%|          | 0/1 [00:00<?, ?it/s]"
      ]
     },
     "metadata": {},
     "output_type": "display_data"
    },
    {
     "data": {
      "application/vnd.jupyter.widget-view+json": {
       "model_id": "131edd72194e43cc93377f88b946b40b",
       "version_major": 2,
       "version_minor": 0
      },
      "text/plain": [
       "number of examples processed for checking labels:   0%|          | 0/1 [00:00<?, ?it/s]"
      ]
     },
     "metadata": {},
     "output_type": "display_data"
    },
    {
     "name": "stdout",
     "output_type": "stream",
     "text": [
      "Total number of examples whose labels have been evaluated: 20480\n"
     ]
    },
    {
     "data": {
      "application/vnd.jupyter.widget-view+json": {
       "model_id": "f7968289166947eda742045752872e09",
       "version_major": 2,
       "version_minor": 0
      },
      "text/plain": [
       "images processed using softmin:   0%|          | 0/1 [00:00<?, ?it/s]"
      ]
     },
     "metadata": {},
     "output_type": "display_data"
    },
    {
     "name": "stderr",
     "output_type": "stream",
     "text": [
      " 40%|████      | 4/10 [00:04<00:06,  1.02s/it]"
     ]
    },
    {
     "name": "stdout",
     "output_type": "stream",
     "text": [
      "(640, 512, 3)\n",
      "/mnt/fiftyoneDB/Database/Image_Data/Thermal_Images_8Bit/Trip_140_Seq_2/3585662_r.jpg\n",
      "len pred probs  1\n",
      "ground_truth_label shape (1, 640, 512)\n"
     ]
    },
    {
     "data": {
      "application/vnd.jupyter.widget-view+json": {
       "model_id": "45dd67b434d94f70b2056ac7e68f62dd",
       "version_major": 2,
       "version_minor": 0
      },
      "text/plain": [
       "number of examples processed for estimating thresholds:   0%|          | 0/1 [00:00<?, ?it/s]"
      ]
     },
     "metadata": {},
     "output_type": "display_data"
    },
    {
     "data": {
      "application/vnd.jupyter.widget-view+json": {
       "model_id": "9ab194a3dcd04fb196a24915d864ba52",
       "version_major": 2,
       "version_minor": 0
      },
      "text/plain": [
       "number of examples processed for checking labels:   0%|          | 0/1 [00:00<?, ?it/s]"
      ]
     },
     "metadata": {},
     "output_type": "display_data"
    },
    {
     "name": "stdout",
     "output_type": "stream",
     "text": [
      "Total number of examples whose labels have been evaluated: 20480\n"
     ]
    },
    {
     "data": {
      "application/vnd.jupyter.widget-view+json": {
       "model_id": "cc5bf4e1354b46139be511a64806f66b",
       "version_major": 2,
       "version_minor": 0
      },
      "text/plain": [
       "images processed using softmin:   0%|          | 0/1 [00:00<?, ?it/s]"
      ]
     },
     "metadata": {},
     "output_type": "display_data"
    },
    {
     "name": "stderr",
     "output_type": "stream",
     "text": [
      " 50%|█████     | 5/10 [00:05<00:04,  1.07it/s]"
     ]
    },
    {
     "name": "stdout",
     "output_type": "stream",
     "text": [
      "(640, 512, 3)\n",
      "/mnt/fiftyoneDB/Database/Image_Data/Thermal_Images_8Bit/Trip_242_Seq_5/18005802_r.jpg\n",
      "len pred probs  1\n",
      "ground_truth_label shape (1, 640, 512)\n"
     ]
    },
    {
     "data": {
      "application/vnd.jupyter.widget-view+json": {
       "model_id": "f2a951dc3191458089702dd62fb9a756",
       "version_major": 2,
       "version_minor": 0
      },
      "text/plain": [
       "number of examples processed for estimating thresholds:   0%|          | 0/1 [00:00<?, ?it/s]"
      ]
     },
     "metadata": {},
     "output_type": "display_data"
    },
    {
     "data": {
      "application/vnd.jupyter.widget-view+json": {
       "model_id": "9848fe071a1149978205efb6bcf0b272",
       "version_major": 2,
       "version_minor": 0
      },
      "text/plain": [
       "number of examples processed for checking labels:   0%|          | 0/1 [00:00<?, ?it/s]"
      ]
     },
     "metadata": {},
     "output_type": "display_data"
    },
    {
     "name": "stdout",
     "output_type": "stream",
     "text": [
      "Total number of examples whose labels have been evaluated: 20480\n"
     ]
    },
    {
     "data": {
      "application/vnd.jupyter.widget-view+json": {
       "model_id": "78bfcac02bba4fc296cef51e18189bde",
       "version_major": 2,
       "version_minor": 0
      },
      "text/plain": [
       "images processed using softmin:   0%|          | 0/1 [00:00<?, ?it/s]"
      ]
     },
     "metadata": {},
     "output_type": "display_data"
    },
    {
     "name": "stderr",
     "output_type": "stream",
     "text": [
      " 60%|██████    | 6/10 [00:06<00:03,  1.14it/s]"
     ]
    },
    {
     "name": "stdout",
     "output_type": "stream",
     "text": [
      "(640, 512, 3)\n",
      "/mnt/fiftyoneDB/Database/Image_Data/Thermal_Images_8Bit/Trip_361_Seq_117/24572631_l.jpg\n",
      "len pred probs  1\n",
      "ground_truth_label shape (1, 640, 512)\n"
     ]
    },
    {
     "data": {
      "application/vnd.jupyter.widget-view+json": {
       "model_id": "d8a0c80fabed45e3ab614c44fd9a04a3",
       "version_major": 2,
       "version_minor": 0
      },
      "text/plain": [
       "number of examples processed for estimating thresholds:   0%|          | 0/1 [00:00<?, ?it/s]"
      ]
     },
     "metadata": {},
     "output_type": "display_data"
    },
    {
     "data": {
      "application/vnd.jupyter.widget-view+json": {
       "model_id": "5c670fffa63443d4a9866ba1c039e0b1",
       "version_major": 2,
       "version_minor": 0
      },
      "text/plain": [
       "number of examples processed for checking labels:   0%|          | 0/1 [00:00<?, ?it/s]"
      ]
     },
     "metadata": {},
     "output_type": "display_data"
    },
    {
     "name": "stdout",
     "output_type": "stream",
     "text": [
      "Total number of examples whose labels have been evaluated: 20480\n"
     ]
    },
    {
     "data": {
      "application/vnd.jupyter.widget-view+json": {
       "model_id": "3d3291f2e27c4cf6a351d80acb4ef210",
       "version_major": 2,
       "version_minor": 0
      },
      "text/plain": [
       "images processed using softmin:   0%|          | 0/1 [00:00<?, ?it/s]"
      ]
     },
     "metadata": {},
     "output_type": "display_data"
    },
    {
     "name": "stderr",
     "output_type": "stream",
     "text": [
      " 70%|███████   | 7/10 [00:07<00:02,  1.17it/s]"
     ]
    },
    {
     "name": "stdout",
     "output_type": "stream",
     "text": [
      "(640, 512, 3)\n",
      "/mnt/fiftyoneDB/Database/Image_Data/Thermal_Images_8Bit/Trip_197_Seq_179/13079556_r.jpg\n",
      "len pred probs  1\n",
      "ground_truth_label shape (1, 640, 512)\n"
     ]
    },
    {
     "data": {
      "application/vnd.jupyter.widget-view+json": {
       "model_id": "7308f7a5490f41bda94446dec61f0544",
       "version_major": 2,
       "version_minor": 0
      },
      "text/plain": [
       "number of examples processed for estimating thresholds:   0%|          | 0/1 [00:00<?, ?it/s]"
      ]
     },
     "metadata": {},
     "output_type": "display_data"
    },
    {
     "data": {
      "application/vnd.jupyter.widget-view+json": {
       "model_id": "aaac180e734a413aa008d0aabdbf53ca",
       "version_major": 2,
       "version_minor": 0
      },
      "text/plain": [
       "number of examples processed for checking labels:   0%|          | 0/1 [00:00<?, ?it/s]"
      ]
     },
     "metadata": {},
     "output_type": "display_data"
    },
    {
     "name": "stdout",
     "output_type": "stream",
     "text": [
      "Total number of examples whose labels have been evaluated: 20480\n"
     ]
    },
    {
     "data": {
      "application/vnd.jupyter.widget-view+json": {
       "model_id": "f7fb3649b28d45aeb5670e5c4521053d",
       "version_major": 2,
       "version_minor": 0
      },
      "text/plain": [
       "images processed using softmin:   0%|          | 0/1 [00:00<?, ?it/s]"
      ]
     },
     "metadata": {},
     "output_type": "display_data"
    },
    {
     "name": "stderr",
     "output_type": "stream",
     "text": [
      " 80%|████████  | 8/10 [00:08<00:01,  1.19it/s]"
     ]
    },
    {
     "name": "stdout",
     "output_type": "stream",
     "text": [
      "(640, 512, 3)\n",
      "/mnt/fiftyoneDB/Database/Image_Data/Thermal_Images_8Bit/Trip_361_Seq_129/24583037_l.jpg\n",
      "len pred probs  1\n",
      "ground_truth_label shape (1, 640, 512)\n"
     ]
    },
    {
     "data": {
      "application/vnd.jupyter.widget-view+json": {
       "model_id": "360c6410549d48f987aea445bb978231",
       "version_major": 2,
       "version_minor": 0
      },
      "text/plain": [
       "number of examples processed for estimating thresholds:   0%|          | 0/1 [00:00<?, ?it/s]"
      ]
     },
     "metadata": {},
     "output_type": "display_data"
    },
    {
     "data": {
      "application/vnd.jupyter.widget-view+json": {
       "model_id": "ef5e131e68f2455da1094a33f2c479a3",
       "version_major": 2,
       "version_minor": 0
      },
      "text/plain": [
       "number of examples processed for checking labels:   0%|          | 0/1 [00:00<?, ?it/s]"
      ]
     },
     "metadata": {},
     "output_type": "display_data"
    },
    {
     "name": "stdout",
     "output_type": "stream",
     "text": [
      "Total number of examples whose labels have been evaluated: 20480\n"
     ]
    },
    {
     "data": {
      "application/vnd.jupyter.widget-view+json": {
       "model_id": "1222e676ffe44fbc9dc5584416500183",
       "version_major": 2,
       "version_minor": 0
      },
      "text/plain": [
       "images processed using softmin:   0%|          | 0/1 [00:00<?, ?it/s]"
      ]
     },
     "metadata": {},
     "output_type": "display_data"
    },
    {
     "name": "stderr",
     "output_type": "stream",
     "text": [
      " 90%|█████████ | 9/10 [00:08<00:00,  1.21it/s]"
     ]
    },
    {
     "name": "stdout",
     "output_type": "stream",
     "text": [
      "(640, 512, 3)\n",
      "/mnt/fiftyoneDB/Database/Image_Data/Thermal_Images_8Bit/Trip_250_Seq_76/18188318_l.jpg\n",
      "len pred probs  1\n",
      "ground_truth_label shape (1, 640, 512)\n"
     ]
    },
    {
     "data": {
      "application/vnd.jupyter.widget-view+json": {
       "model_id": "8ac4264fdf13432ca94837d6ffa16173",
       "version_major": 2,
       "version_minor": 0
      },
      "text/plain": [
       "number of examples processed for estimating thresholds:   0%|          | 0/1 [00:00<?, ?it/s]"
      ]
     },
     "metadata": {},
     "output_type": "display_data"
    },
    {
     "data": {
      "application/vnd.jupyter.widget-view+json": {
       "model_id": "fb9f5bcd2d3d4212b2627012d4c5b814",
       "version_major": 2,
       "version_minor": 0
      },
      "text/plain": [
       "number of examples processed for checking labels:   0%|          | 0/1 [00:00<?, ?it/s]"
      ]
     },
     "metadata": {},
     "output_type": "display_data"
    },
    {
     "name": "stdout",
     "output_type": "stream",
     "text": [
      "Total number of examples whose labels have been evaluated: 20480\n"
     ]
    },
    {
     "data": {
      "application/vnd.jupyter.widget-view+json": {
       "model_id": "a2d6b54138344cc4867d4b30b7714e69",
       "version_major": 2,
       "version_minor": 0
      },
      "text/plain": [
       "images processed using softmin:   0%|          | 0/1 [00:00<?, ?it/s]"
      ]
     },
     "metadata": {},
     "output_type": "display_data"
    },
    {
     "name": "stderr",
     "output_type": "stream",
     "text": [
      "100%|██████████| 10/10 [00:09<00:00,  1.03it/s]"
     ]
    },
    {
     "name": "stdout",
     "output_type": "stream",
     "text": [
      "It took 10.305758714675903 for 10\n"
     ]
    },
    {
     "name": "stderr",
     "output_type": "stream",
     "text": [
      "\n"
     ]
    }
   ],
   "source": [
    "field_to_save = \"softmin_errors\"\n",
    "model_labels =  model.config.id2label\n",
    "num_samples = 10\n",
    "dataset_view = dataset.match(F(\"metadata.height\")==640).take(num_samples)\n",
    "\n",
    "pred_probs_list = []\n",
    "ground_truth_labels_list = []\n",
    "\n",
    "time0 = time.time()\n",
    "for sample in tqdm(dataset_view):\n",
    "    image_filepath = sample.filepath\n",
    "    # image = Image.open(image_filepath).convert('RGB')\n",
    "    image = np.array(Image.open(image_filepath))\n",
    "    image = cv2.cvtColor(image, cv2.COLOR_BGR2RGB)\n",
    "    print(image.shape)\n",
    "    print(image_filepath)\n",
    "    image = Image.fromarray(image)\n",
    "    \n",
    "\n",
    "    pixel_values = image_transform(image=np.array(image))[\"image\"]\n",
    "    pixel_values = np.moveaxis(pixel_values, -1, 0)\n",
    "    pixel_values = torch.from_numpy(pixel_values).unsqueeze(0)\n",
    "\n",
    "    with torch.no_grad():\n",
    "        outputs = model(pixel_values.to(DEVICE))\n",
    "\n",
    "\n",
    "    class_queries_logits = outputs.class_queries_logits  # [batch_size, num_queries, num_classes+1]\n",
    "    masks_queries_logits = outputs.masks_queries_logits  # [batch_size, num_queries, height, width]\n",
    "\n",
    "    # Compute probabilities and remove the null class `[..., :-1]`\n",
    "    masks_classes = class_queries_logits.softmax(dim=-1)[..., :-1]\n",
    "    masks_probs = masks_queries_logits.sigmoid()  # [batch_size, num_queries, height, width]\n",
    "\n",
    "    # Compute semantic segmentation probabilities of shape (batch_size, num_classes, height, width)\n",
    "    pred_probs = torch.einsum(\"bqc, bqhw -> bchw\", masks_classes, masks_probs)\n",
    "    print(\"len pred probs \", len(pred_probs))\n",
    "    target_sizes=[image.size[::-1]]\n",
    "    # target_sizes = [TARGET_SIZE]\n",
    "    for idx in range(len(pred_probs)):\n",
    "        resized_probs = NNF.interpolate(\n",
    "            pred_probs[idx].unsqueeze(dim=0), size=target_sizes[idx], mode='bilinear', align_corners=False\n",
    "        )\n",
    "    pred_probs_np = resized_probs.cpu().numpy()\n",
    "\n",
    "    # ground_truth_label = create_image_mask(sample['ground_truth_det.detections'], image.size)\n",
    "    image_size = (image.size[1], image.size[0])\n",
    "\n",
    "    ground_truth_label = np.expand_dims(create_image_mask(sample['ground_truth_det.detections'], image_size), axis=0)\n",
    "    \n",
    "    print(\"ground_truth_label shape\", ground_truth_label.shape)\n",
    "    pred_probs_list.append(np.squeeze(pred_probs_np))\n",
    "    ground_truth_labels_list.append(np.squeeze(ground_truth_label))\n",
    "\n",
    "    issues = find_label_issues(ground_truth_label, pred_probs_np, downsample = 4, n_jobs=None, batch_size=1)\n",
    "    image_scores, pixel_scores = get_label_quality_scores(labels=ground_truth_label, pred_probs=pred_probs_np)\n",
    "    issues_from_score = issues_from_scores(image_scores, pixel_scores, threshold=0.5)\n",
    "\n",
    "    issues_mask = np.squeeze(issues_from_score.astype(int))\n",
    "\n",
    "    fo_annotations = softmin_output_to_fo_format(issues_mask)\n",
    "\n",
    "    # Softmin_score ranges from 0 to 1, such that lower scores indicate images more likely to contain some mislabeled pixels.\n",
    "    sample['softmin_score'] = round(image_scores[0],4)\n",
    "    #save in the required field in fiftyone sample\n",
    "    sample[field_to_save] = fo.Detections(detections=fo_annotations)\n",
    "    sample.save()\n",
    "\n",
    "time1 = time.time()\n",
    "print(f\"It took {str(time1-time0)} for {num_samples}\")\n",
    "\n",
    "pred_probs_all_np = np.stack(pred_probs_list, axis=0)\n",
    "ground_truth_labels_all_np = np.stack(ground_truth_labels_list, axis=0)\n"
   ]
  },
  {
   "cell_type": "code",
   "execution_count": 49,
   "metadata": {},
   "outputs": [
    {
     "name": "stdout",
     "output_type": "stream",
     "text": [
      "/mnt/fiftyoneDB/Database/Image_Data/Thermal_Images_8Bit/Trip_46_Seq_7/1355061_l.jpg\n"
     ]
    },
    {
     "data": {
      "application/vnd.jupyter.widget-view+json": {
       "model_id": "ab8eac62436e45edb30058d7651be0ed",
       "version_major": 2,
       "version_minor": 0
      },
      "text/plain": [
       "number of examples processed for estimating thresholds:   0%|          | 0/1 [00:00<?, ?it/s]"
      ]
     },
     "metadata": {},
     "output_type": "display_data"
    },
    {
     "data": {
      "application/vnd.jupyter.widget-view+json": {
       "model_id": "fc2b84ecc7364cbb9f4123338bef10d5",
       "version_major": 2,
       "version_minor": 0
      },
      "text/plain": [
       "number of examples processed for checking labels:   0%|          | 0/1 [00:00<?, ?it/s]"
      ]
     },
     "metadata": {},
     "output_type": "display_data"
    },
    {
     "name": "stdout",
     "output_type": "stream",
     "text": [
      "Total number of examples whose labels have been evaluated: 20480\n"
     ]
    },
    {
     "data": {
      "application/vnd.jupyter.widget-view+json": {
       "model_id": "f2030a392cd4403690381b0d078c9492",
       "version_major": 2,
       "version_minor": 0
      },
      "text/plain": [
       "images processed using softmin:   0%|          | 0/1 [00:00<?, ?it/s]"
      ]
     },
     "metadata": {},
     "output_type": "display_data"
    }
   ],
   "source": [
    "field_to_save = \"softmin_errors\"\n",
    "\n",
    "sample = dataset_view.first()\n",
    "\n",
    "image_filepath = sample.filepath\n",
    "print(image_filepath)\n",
    "# image = Image.open(image_filepath).convert('RGB')\n",
    "image = np.array(Image.open(image_filepath))\n",
    "image = cv2.cvtColor(image, cv2.COLOR_BGR2RGB)\n",
    "image = Image.fromarray(image)\n",
    "\n",
    "pixel_values = image_transform(image=np.array(image))[\"image\"]\n",
    "pixel_values = np.moveaxis(pixel_values, -1, 0)\n",
    "pixel_values = torch.from_numpy(pixel_values).unsqueeze(0)\n",
    "\n",
    "with torch.no_grad():\n",
    "    outputs = model(pixel_values.to(DEVICE))\n",
    "\n",
    "\n",
    "class_queries_logits = outputs.class_queries_logits  # [batch_size, num_queries, num_classes+1]\n",
    "masks_queries_logits = outputs.masks_queries_logits  # [batch_size, num_queries, height, width]\n",
    "\n",
    "# Compute probabilities and remove the null class `[..., :-1]`\n",
    "masks_classes = class_queries_logits.softmax(dim=-1)[..., :-1]\n",
    "masks_probs = masks_queries_logits.sigmoid()  # [batch_size, num_queries, height, width]\n",
    "\n",
    "# Compute semantic segmentation probabilities of shape (batch_size, num_classes, height, width)\n",
    "pred_probs = torch.einsum(\"bqc, bqhw -> bchw\", masks_classes, masks_probs)\n",
    "target_sizes=[image.size[::-1]]\n",
    "for idx in range(len(pred_probs)):\n",
    "    resized_probs = NNF.interpolate(\n",
    "        pred_probs[idx].unsqueeze(dim=0), size=target_sizes[idx], mode='bilinear', align_corners=False\n",
    "    )\n",
    "pred_probs_np = resized_probs.cpu().numpy()\n",
    "\n",
    "# ground_truth_label = create_image_mask(sample['ground_truth_det.detections'], image.size)\n",
    "image_size = (image.size[1], image.size[0])\n",
    "\n",
    "ground_truth_label = np.expand_dims(create_image_mask(sample['ground_truth_det.detections'], image_size), axis=0)\n",
    "\n",
    "issues = find_label_issues(ground_truth_label, pred_probs_np, downsample = 4, n_jobs=None, batch_size=1)\n",
    "image_scores, pixel_scores = get_label_quality_scores(labels=ground_truth_label, pred_probs=pred_probs_np)\n",
    "issues_from_score = issues_from_scores(image_scores, pixel_scores, threshold=0.5)\n",
    "\n",
    "issues_mask = np.squeeze(issues_from_score.astype(int))\n",
    "\n",
    "fo_annotations = softmin_output_to_fo_format(issues_mask)\n",
    "\n",
    "# Softmin_score ranges from 0 to 1, such that lower scores indicate images more likely to contain some mislabeled pixels.\n",
    "sample['softmin_score'] = round(image_scores[0],4)\n",
    "#save in the required field in fiftyone sample\n",
    "sample[field_to_save] = fo.Detections(detections=fo_annotations)\n",
    "sample.save()"
   ]
  },
  {
   "cell_type": "code",
   "execution_count": 91,
   "metadata": {},
   "outputs": [
    {
     "data": {
      "image/png": "[encoded data removed]",
      "text/plain": [
       "<Figure size 1500x500 with 3 Axes>"
      ]
     },
     "metadata": {},
     "output_type": "display_data"
    }
   ],
   "source": [
    "# issues = find_label_issues(ground_truth_labels_all_np, pred_probs_all_np, downsample = 4, n_jobs=None, batch_size=1)\n",
    "# image_scores, pixel_scores = get_label_quality_scores(labels=ground_truth_labels_all_np, pred_probs=pred_probs_all_np)\n",
    "# issues_from_score = issues_from_scores(image_scores, pixel_scores, threshold=0.5)\n",
    "\n",
    "display_issues(issues_from_score, labels=ground_truth_label, pred_probs=pred_probs_np, top=5)"
   ]
  },
  {
   "cell_type": "code",
   "execution_count": null,
   "metadata": {},
   "outputs": [],
   "source": []
  },
  {
   "cell_type": "code",
   "execution_count": 90,
   "metadata": {},
   "outputs": [
    {
     "data": {
      "application/vnd.jupyter.widget-view+json": {
       "model_id": "8de4138536a74a948bf7fe44df4a5435",
       "version_major": 2,
       "version_minor": 0
      },
      "text/plain": [
       "number of examples processed for estimating thresholds:   0%|          | 0/10 [00:00<?, ?it/s]"
      ]
     },
     "metadata": {},
     "output_type": "display_data"
    },
    {
     "data": {
      "application/vnd.jupyter.widget-view+json": {
       "model_id": "234c872e352d4c7783746cf34c7ada09",
       "version_major": 2,
       "version_minor": 0
      },
      "text/plain": [
       "number of examples processed for checking labels:   0%|          | 0/10 [00:00<?, ?it/s]"
      ]
     },
     "metadata": {},
     "output_type": "display_data"
    },
    {
     "name": "stdout",
     "output_type": "stream",
     "text": [
      "Total number of examples whose labels have been evaluated: 204800\n"
     ]
    },
    {
     "data": {
      "application/vnd.jupyter.widget-view+json": {
       "model_id": "e60185a1e1154789bb2773a2d6a2faa0",
       "version_major": 2,
       "version_minor": 0
      },
      "text/plain": [
       "images processed using softmin:   0%|          | 0/10 [00:00<?, ?it/s]"
      ]
     },
     "metadata": {},
     "output_type": "display_data"
    }
   ],
   "source": [
    "issues = find_label_issues(ground_truth_labels_all_np, pred_probs_all_np, downsample = 4, n_jobs=None, batch_size=8)\n",
    "image_scores, pixel_scores = get_label_quality_scores(labels=ground_truth_labels_all_np, pred_probs=pred_probs_all_np)"
   ]
  },
  {
   "cell_type": "code",
   "execution_count": null,
   "metadata": {},
   "outputs": [],
   "source": []
  }
 ],
 "metadata": {
  "kernelspec": {
   "display_name": "softmin",
   "language": "python",
   "name": "python3"
  },
  "language_info": {
   "codemirror_mode": {
    "name": "ipython",
    "version": 3
   },
   "file_extension": ".py",
   "mimetype": "text/x-python",
   "name": "python",
   "nbconvert_exporter": "python",
   "pygments_lexer": "ipython3",
   "version": "3.9.18"
  }
 },
 "nbformat": 4,
 "nbformat_minor": 2
}
