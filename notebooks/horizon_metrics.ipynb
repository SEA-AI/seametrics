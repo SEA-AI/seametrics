{
 "cells": [
  {
   "cell_type": "code",
   "execution_count": 7,
   "metadata": {},
   "outputs": [],
   "source": [
    "import sys\n",
    "\n",
    "sys.path.append(\"../\")"
   ]
  },
  {
   "cell_type": "code",
   "execution_count": 9,
   "metadata": {},
   "outputs": [],
   "source": [
    "import numpy as np\n",
    "import matplotlib.pyplot as plt\n",
    "\n",
    "def xy_points_to_slope_midpoint(xy_points):\n",
    "    \"\"\"\n",
    "    Given two points, return the slope and midpoint of the line\n",
    "\n",
    "    Args:\n",
    "    xy_points: list of two points, each point is a list of two elements\n",
    "    Points are in the form of [x, y], where x and y are normalized to [0, 1]\n",
    "\n",
    "    Returns:\n",
    "    slope: Slope of the line\n",
    "    midpoint : Midpoint is in the form of [x,y], and is also normalized to [0, 1]\n",
    "    \"\"\"\n",
    "\n",
    "    x1, y1, x2, y2 = xy_points[0][0], xy_points[0][1], xy_points[1][0], xy_points[1][1]\n",
    "    slope = (y2 - y1) / (x2 - x1)\n",
    "\n",
    "    midpoint_x = 0.5\n",
    "    midpoint_y = slope * (0.5 - x1) + y1\n",
    "\n",
    "    midpoint = [midpoint_x, midpoint_y]\n",
    "\n",
    "    return slope, midpoint\n",
    "\n",
    "def calculate_horizon_error(annotated_horizon, proposed_horizon):\n",
    "    \"\"\"\n",
    "    Calculate the error between the annotated horizon and the proposed horizon\n",
    "\n",
    "    Args:\n",
    "    annotated_horizon: list of two points, each point is a list of two elements\n",
    "    Points are in the form of [x, y], where x and y are normalized to [0, 1]\n",
    "    proposed_horizon: list of two points, each point is a list of two elements\n",
    "    Points are in the form of [x, y], where x and y are normalized to [0, 1]\n",
    "\n",
    "    Returns:\n",
    "    slope_error: Error in the slope of the lines\n",
    "    midpoint_error: Error in the midpoint_y of the lines\n",
    "    \"\"\"\n",
    "\n",
    "    slope_annotated, midpoint_annotated = xy_points_to_slope_midpoint(annotated_horizon)\n",
    "    slope_proposed, midpoint_proposed = xy_points_to_slope_midpoint(proposed_horizon)\n",
    "\n",
    "    slope_error = abs(slope_annotated - slope_proposed)\n",
    "    midpoint_error = abs(midpoint_annotated[1] - midpoint_proposed[1])\n",
    "\n",
    "    return slope_error, midpoint_error\n",
    "\n",
    "def calculate_horizon_error_across_sequence(slope_error_list, midpoint_error_list, slope_error_jump_threshold, midpoint_error_jump_threshold):\n",
    "    \"\"\"\n",
    "    Calculate the error statistics across a sequence of frames\n",
    "\n",
    "    Args:\n",
    "    slope_error_list: List of errors in the slope of the lines\n",
    "    midpoint_error_list: List of errors in the midpoint_y of the lines\n",
    "\n",
    "    Returns:\n",
    "    average_slope_error: Average error in the slope of the lines\n",
    "    average_midpoint_error: Average error in the midpoint_y of the lines\n",
    "    \"\"\"\n",
    "\n",
    "    # Calculate the average and standard deviation of the errors\n",
    "    average_slope_error = np.mean(slope_error_list)\n",
    "    average_midpoint_error = np.mean(midpoint_error_list)\n",
    "\n",
    "    stddev_slope_error = np.std(slope_error_list)\n",
    "    stddev_midpoint_error = np.std(midpoint_error_list)\n",
    "\n",
    "    # Calculate the maximum errors\n",
    "    max_slope_error = np.max(slope_error_list)\n",
    "    max_midpoint_error = np.max(midpoint_error_list)\n",
    "\n",
    "    # Calculate the differences between errors in successive frames\n",
    "    diff_slope_error = np.abs(np.diff(slope_error_list))\n",
    "    diff_midpoint_error = np.abs(np.diff(midpoint_error_list))\n",
    "\n",
    "    # Calculate the number of jumps in the errors\n",
    "    num_slope_error_jumps = np.sum(diff_slope_error > slope_error_jump_threshold)\n",
    "    num_midpoint_error_jumps = np.sum(diff_midpoint_error > midpoint_error_jump_threshold)\n",
    "\n",
    "    # Create a dictionary to store the results\n",
    "    sequence_results = {\n",
    "        'average_slope_error': average_slope_error,\n",
    "        'average_midpoint_error': average_midpoint_error,\n",
    "        'stddev_slope_error': stddev_slope_error,\n",
    "        'stddev_midpoint_error': stddev_midpoint_error,\n",
    "        'max_slope_error': max_slope_error,\n",
    "        'max_midpoint_error': max_midpoint_error,\n",
    "        'num_slope_error_jumps': num_slope_error_jumps,\n",
    "        'num_midpoint_error_jumps': num_midpoint_error_jumps\n",
    "    }\n",
    "\n",
    "    return sequence_results\n",
    "\n",
    "def slope_to_roll(slope):\n",
    "    \"\"\"\n",
    "    Convert the slope of the horizon to roll\n",
    "\n",
    "    Args:\n",
    "    slope: Slope of the horizon\n",
    "\n",
    "    Returns:\n",
    "    roll: Roll in degrees\n",
    "    \"\"\"\n",
    "    roll = np.arctan(slope) * 180 / np.pi\n",
    "    return roll\n",
    "\n",
    "def roll_to_slope(roll):\n",
    "    \"\"\"\n",
    "    Convert the roll of the horizon to slope\n",
    "\n",
    "    Args:\n",
    "    roll: Roll of the horizon in degrees\n",
    "\n",
    "    Returns:\n",
    "    slope: Slope of the horizon\n",
    "    \"\"\"\n",
    "    slope = np.tan(roll * np.pi / 180)\n",
    "    return slope\n",
    "\n",
    "def midpoint_to_pitch(midpoint, vertical_fov_degrees):\n",
    "    \"\"\"\n",
    "    Convert the midpoint of the horizon to pitch\n",
    "\n",
    "    Args:\n",
    "    midpoint: Midpoint of the horizon\n",
    "    vertical_fov_degrees: Vertical field of view of the camera in degrees\n",
    "\n",
    "    Returns:\n",
    "    pitch: Pitch in degrees\n",
    "    \"\"\"\n",
    "    pitch = midpoint * vertical_fov_degrees\n",
    "    return pitch\n",
    "\n",
    "def pitch_to_midpoint(pitch, vertical_fov_degrees):\n",
    "    \"\"\"\n",
    "    Convert the pitch of the horizon to midpoint\n",
    "\n",
    "    Args:\n",
    "    pitch: Pitch of the horizon in degrees\n",
    "    vertical_fov_degrees: Vertical field of view of the camera in degrees\n",
    "\n",
    "    Returns:\n",
    "    midpoint: Midpoint of the horizon\n",
    "    \"\"\"\n",
    "    midpoint = pitch / vertical_fov_degrees\n",
    "    return midpoint\n"
   ]
  },
  {
   "cell_type": "markdown",
   "metadata": {},
   "source": [
    "Experiment only : Just an example usage of the functions above to obtain per-frame horizon error (slope_error, midpoint_error) as well as per-sequence horizon errors (Dictionary containing different statistics)"
   ]
  },
  {
   "cell_type": "code",
   "execution_count": 10,
   "metadata": {},
   "outputs": [
    {
     "data": {
      "text/plain": [
       "{'average_slope_error': 0.04494382022471912,\n",
       " 'average_midpoint_error': 0.01202247191011239,\n",
       " 'stddev_slope_error': 0.055803986613300875,\n",
       " 'stddev_midpoint_error': 0.012871259373001273,\n",
       " 'max_slope_error': 0.12359550561797751,\n",
       " 'max_midpoint_error': 0.030000000000000027,\n",
       " 'num_slope_error_jumps': 2,\n",
       " 'num_midpoint_error_jumps': 0}"
      ]
     },
     "execution_count": 10,
     "metadata": {},
     "output_type": "execute_result"
    }
   ],
   "source": [
    "# Set up some fake data for testing\n",
    "\n",
    "annotated_horizon_1 = [[0.1, 0.3], [0.99, 0.4]]\n",
    "proposed_horizon_1 = [[0.1, 0.31], [0.99, 0.4]]\n",
    "\n",
    "annotated_horizon_2 = [[0.1, 0.3], [0.99, 0.4]]\n",
    "proposed_horizon_2 = [[0.1, 0.33], [0.99, 0.43]]\n",
    "\n",
    "annotated_horizon_3 = [[0.1, 0.3], [0.99, 0.4]]\n",
    "proposed_horizon_3 = [[0.1, 0.35], [0.99, 0.34]]\n",
    "\n",
    "annotated_horizon_list = [annotated_horizon_1, annotated_horizon_2, annotated_horizon_3]\n",
    "proposed_horizon_list = [proposed_horizon_1, proposed_horizon_2, proposed_horizon_3]\n",
    "\n",
    "# Set error jump thresholds (in degrees)\n",
    "roll_thresh = 0.5\n",
    "pitch_thresh = 1\n",
    "\n",
    "# Set the vertical field of view of the camera in degrees\n",
    "vertical_fov_degrees = 25.6\n",
    "\n",
    "# Convert the thresholds to slope and midpoint\n",
    "slope_thresh = roll_to_slope(roll_thresh)\n",
    "midpoint_thresh = pitch_to_midpoint(pitch_thresh, vertical_fov_degrees)\n",
    "\n",
    "slope_error_list = []\n",
    "midpoint_error_list = []\n",
    "\n",
    "for annotated_horizon, proposed_horizon in zip(annotated_horizon_list, proposed_horizon_list):\n",
    "    slope_error, midpoint_error = calculate_horizon_error(annotated_horizon, proposed_horizon)\n",
    "    slope_error_list.append(slope_error)\n",
    "    midpoint_error_list.append(midpoint_error)\n",
    "\n",
    "\n",
    "#print(\"Slope error list: \", slope_error_list)\n",
    "#print(\"Midpoint error list: \", midpoint_error_list)\n",
    "\n",
    "#print(\"Slope threshold: \", slope_thresh)\n",
    "#print(\"Midpoint threshold: \", midpoint_thresh)\n",
    "\n",
    "calculate_horizon_error_across_sequence(slope_error_list, midpoint_error_list, slope_thresh, midpoint_thresh)\n"
   ]
  },
  {
   "cell_type": "markdown",
   "metadata": {},
   "source": [
    "Experimentation only: Just testing the conversion functions"
   ]
  },
  {
   "cell_type": "code",
   "execution_count": 11,
   "metadata": {},
   "outputs": [],
   "source": [
    "i = 0\n",
    "while i < 100000:\n",
    "    # Generate random roll and pitch\n",
    "    roll = np.random.uniform(-90, 90)\n",
    "    pitch = np.random.uniform(-90, 90)\n",
    "\n",
    "    # Convert roll and pitch to slope and midpoint\n",
    "    slope = roll_to_slope(roll)\n",
    "    midpoint = pitch_to_midpoint(pitch, 25.6)\n",
    "\n",
    "    # Convert slope and midpoint to roll and pitch\n",
    "    roll_recovered = slope_to_roll(slope)\n",
    "    pitch_recovered = midpoint_to_pitch(midpoint, 25.6)\n",
    "\n",
    "    #print(\"Roll: \", roll, \"Pitch: \", pitch)\n",
    "    #print(\"Slope: \", slope, \"Midpoint: \", midpoint)\n",
    "    #print(\"Recovered roll: \", roll_recovered, \"Recovered pitch: \", pitch_recovered)\n",
    "\n",
    "    if abs(roll - roll_recovered) > 1e-6:\n",
    "        print(\"Roll conversion failed\")\n",
    "    if abs(pitch - pitch_recovered) > 1e-6:\n",
    "        print(\"Pitch conversion failed\")\n",
    "\n",
    "    i += 1\n"
   ]
  },
  {
   "cell_type": "markdown",
   "metadata": {},
   "source": [
    "Experiment only : Visualising what slope and midpoint looks like"
   ]
  },
  {
   "cell_type": "code",
   "execution_count": 12,
   "metadata": {},
   "outputs": [
    {
     "name": "stdout",
     "output_type": "stream",
     "text": [
      "Annotated slope:  0.11235955056179779 Annotated midpoint:  [0.5, 0.3449438202247191]\n",
      "Proposed slope:  -0.22471910112359553 Proposed midpoint:  [0.5, 0.4101123595505618]\n"
     ]
    },
    {
     "data": {
      "image/png": "[encoded data removed]",
      "text/plain": [
       "<Figure size 640x480 with 1 Axes>"
      ]
     },
     "metadata": {},
     "output_type": "display_data"
    }
   ],
   "source": [
    "annotated_horizon = [[0.1, 0.3], [0.99, 0.4]]\n",
    "proposed_horizon = [[0.1, 0.5], [0.99, 0.3]]\n",
    "\n",
    "# Create and empty image of size 640 * 512\n",
    "img = np.zeros((512, 640, 3), dtype=np.uint8)\n",
    "\n",
    "# Plot the image\n",
    "plt.imshow(img)\n",
    "\n",
    "# Plot the annotated horizon\n",
    "plt.plot([annotated_horizon[0][0] * 640, annotated_horizon[1][0] * 640], [annotated_horizon[0][1] * 512, annotated_horizon[1][1] * 512], 'r')\n",
    "\n",
    "# Plot the proposed horizon\n",
    "plt.plot([proposed_horizon[0][0] * 640, proposed_horizon[1][0] * 640], [proposed_horizon[0][1] * 512, proposed_horizon[1][1] * 512], 'g')\n",
    "\n",
    "annotated_slope, annotated_midpoint = xy_points_to_slope_midpoint(annotated_horizon)\n",
    "proposed_slope, proposed_midpoint = xy_points_to_slope_midpoint(proposed_horizon)\n",
    "print(\"Annotated slope: \", annotated_slope, \"Annotated midpoint: \", annotated_midpoint)\n",
    "print(\"Proposed slope: \", proposed_slope, \"Proposed midpoint: \", proposed_midpoint)\n",
    "\n",
    "# Plot the midpoint of the annotated horizon\n",
    "plt.plot(annotated_midpoint[0] * 640, annotated_midpoint[1] * 512, 'rx')\n",
    "\n",
    "# Plot the midpoint of the proposed horizon\n",
    "plt.plot(proposed_midpoint[0] * 640, proposed_midpoint[1] * 512, 'gx')\n",
    "\n",
    "\n",
    "\n",
    "plt.show()"
   ]
  },
  {
   "cell_type": "markdown",
   "metadata": {},
   "source": [
    "#### Seametrics usage"
   ]
  },
  {
   "cell_type": "code",
   "execution_count": 8,
   "metadata": {},
   "outputs": [],
   "source": [
    "import os\n",
    "from pathlib import Path\n",
    "\n",
    "config_path = Path.home() / \".fiftyone\" / \"config.global_mongodb.json\"\n",
    "os.environ[\"FIFTYONE_CONFIG_PATH\"] = str(config_path)\n",
    "import fiftyone as fo\n",
    "from fiftyone import ViewField as F"
   ]
  },
  {
   "cell_type": "code",
   "execution_count": 9,
   "metadata": {},
   "outputs": [
    {
     "data": {
      "text/plain": [
       "{'average_slope_error': 0.0258093538529091,\n",
       " 'average_midpoint_error': 0.00824077405427633,\n",
       " 'stddev_slope_error': 0.01527612500854685,\n",
       " 'stddev_midpoint_error': 0.005138422273476881,\n",
       " 'max_slope_error': 0.05698966501013775,\n",
       " 'max_midpoint_error': 0.018512834821428625,\n",
       " 'num_slope_error_jumps': 22,\n",
       " 'num_midpoint_error_jumps': 20}"
      ]
     },
     "execution_count": 9,
     "metadata": {},
     "output_type": "execute_result"
    }
   ],
   "source": [
    "from seametrics.horizon.horizon import HorizonMetrics\n",
    "\n",
    "# Load the dataset and filter sequence\n",
    "sequence = \"Sentry_2023_02_Portugal_2023_01_24_19_15_17\"\n",
    "dataset_name = \"SENTRY_VIDEOS_DATASET_QA\"\n",
    "sequence_view = fo.load_dataset(dataset_name).match(F(\"sequence\") == sequence)\n",
    "sequence_view = sequence_view.select_group_slices(\"thermal_wide\")\n",
    "\n",
    "\n",
    "# Get the ground truth points\n",
    "polylines_gt = sequence_view.values(\"frames.ground_truth_pl\")\n",
    "ground_truth_points = [\n",
    "    line[\"polylines\"][0][\"points\"][0] for line in polylines_gt[0]\n",
    "    if line is not None\n",
    "]\n",
    "\n",
    "# Get the predicted points\n",
    "polylines_pred = sequence_view.values(\"frames.ahoy-IR-b2-whales__XAVIER-AGX-JP46_pl\")\n",
    "prediction_points = [\n",
    "    line[\"polylines\"][0][\"points\"][0] for line in polylines_pred[0]\n",
    "    if line is not None\n",
    "]\n",
    "\n",
    "# Create the metrics object\n",
    "metrics = HorizonMetrics(roll_threshold=0.5, pitch_threshold=0.1, vertical_fov_degrees=25.6)\n",
    "\n",
    "# Set ground truth and predictions\n",
    "metrics.update(predictions=prediction_points,\n",
    "               ground_truth_det=ground_truth_points)\n",
    "\n",
    "# Compute metrics\n",
    "metrics.compute()\n"
   ]
  },
  {
   "cell_type": "markdown",
   "metadata": {},
   "source": [
    "#### Huggingface integration"
   ]
  },
  {
   "cell_type": "code",
   "execution_count": 10,
   "metadata": {},
   "outputs": [
    {
     "name": "stderr",
     "output_type": "stream",
     "text": [
      "Downloading builder script: 100%|██████████| 5.35k/5.35k [00:00<00:00, 4.64MB/s]\n"
     ]
    },
    {
     "data": {
      "text/plain": [
       "{'average_slope_error': 0.0258093538529091,\n",
       " 'average_midpoint_error': 0.00824077405427633,\n",
       " 'stddev_slope_error': 0.01527612500854685,\n",
       " 'stddev_midpoint_error': 0.005138422273476881,\n",
       " 'max_slope_error': 0.05698966501013775,\n",
       " 'max_midpoint_error': 0.018512834821428625,\n",
       " 'num_slope_error_jumps': 22,\n",
       " 'num_midpoint_error_jumps': 20}"
      ]
     },
     "execution_count": 10,
     "metadata": {},
     "output_type": "execute_result"
    }
   ],
   "source": [
    "import evaluate\n",
    "\n",
    "module = evaluate.load(\"SEA-AI/horizonmetrics\")\n",
    "module.add(predictions=ground_truth_points, references=prediction_points)\n",
    "module.compute()\n"
   ]
  }
 ],
 "metadata": {
  "kernelspec": {
   "display_name": "Python 3",
   "language": "python",
   "name": "python3"
  },
  "language_info": {
   "codemirror_mode": {
    "name": "ipython",
    "version": 3
   },
   "file_extension": ".py",
   "mimetype": "text/x-python",
   "name": "python",
   "nbconvert_exporter": "python",
   "pygments_lexer": "ipython3",
   "version": "3.10.13"
  }
 },
 "nbformat": 4,
 "nbformat_minor": 2
}
